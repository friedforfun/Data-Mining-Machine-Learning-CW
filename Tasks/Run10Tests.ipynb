{
 "cells": [
  {
   "cell_type": "code",
   "execution_count": 5,
   "metadata": {},
   "outputs": [
    {
     "name": "stdout",
     "output_type": "stream",
     "text": [
      "The autoreload extension is already loaded. To reload it, use:\n",
      "  %reload_ext autoreload\n"
     ]
    },
    {
     "name": "stderr",
     "output_type": "stream",
     "text": [
      "C:\\Users\\Jimmy\\anaconda3\\envs\\F21DL-CW1\\lib\\site-packages\\sklearn\\utils\\validation.py:72: DataConversionWarning: A column-vector y was passed when a 1d array was expected. Please change the shape of y to (n_samples, ), for example using ravel().\n",
      "  return f(**kwargs)\n",
      "C:\\Users\\Jimmy\\anaconda3\\envs\\F21DL-CW1\\lib\\site-packages\\sklearn\\utils\\validation.py:72: DataConversionWarning: A column-vector y was passed when a 1d array was expected. Please change the shape of y to (n_samples, ), for example using ravel().\n",
      "  return f(**kwargs)\n",
      "C:\\Users\\Jimmy\\anaconda3\\envs\\F21DL-CW1\\lib\\site-packages\\sklearn\\utils\\validation.py:72: DataConversionWarning: A column-vector y was passed when a 1d array was expected. Please change the shape of y to (n_samples, ), for example using ravel().\n",
      "  return f(**kwargs)\n",
      "C:\\Users\\Jimmy\\anaconda3\\envs\\F21DL-CW1\\lib\\site-packages\\sklearn\\utils\\validation.py:72: DataConversionWarning: A column-vector y was passed when a 1d array was expected. Please change the shape of y to (n_samples, ), for example using ravel().\n",
      "  return f(**kwargs)\n",
      "C:\\Users\\Jimmy\\anaconda3\\envs\\F21DL-CW1\\lib\\site-packages\\sklearn\\utils\\validation.py:72: DataConversionWarning: A column-vector y was passed when a 1d array was expected. Please change the shape of y to (n_samples, ), for example using ravel().\n",
      "  return f(**kwargs)\n",
      "C:\\Users\\Jimmy\\anaconda3\\envs\\F21DL-CW1\\lib\\site-packages\\sklearn\\utils\\validation.py:72: DataConversionWarning: A column-vector y was passed when a 1d array was expected. Please change the shape of y to (n_samples, ), for example using ravel().\n",
      "  return f(**kwargs)\n",
      "C:\\Users\\Jimmy\\anaconda3\\envs\\F21DL-CW1\\lib\\site-packages\\sklearn\\utils\\validation.py:72: DataConversionWarning: A column-vector y was passed when a 1d array was expected. Please change the shape of y to (n_samples, ), for example using ravel().\n",
      "  return f(**kwargs)\n",
      "C:\\Users\\Jimmy\\anaconda3\\envs\\F21DL-CW1\\lib\\site-packages\\sklearn\\utils\\validation.py:72: DataConversionWarning: A column-vector y was passed when a 1d array was expected. Please change the shape of y to (n_samples, ), for example using ravel().\n",
      "  return f(**kwargs)\n",
      "C:\\Users\\Jimmy\\anaconda3\\envs\\F21DL-CW1\\lib\\site-packages\\sklearn\\utils\\validation.py:72: DataConversionWarning: A column-vector y was passed when a 1d array was expected. Please change the shape of y to (n_samples, ), for example using ravel().\n",
      "  return f(**kwargs)\n",
      "C:\\Users\\Jimmy\\anaconda3\\envs\\F21DL-CW1\\lib\\site-packages\\sklearn\\utils\\validation.py:72: DataConversionWarning: A column-vector y was passed when a 1d array was expected. Please change the shape of y to (n_samples, ), for example using ravel().\n",
      "  return f(**kwargs)\n",
      "C:\\Users\\Jimmy\\anaconda3\\envs\\F21DL-CW1\\lib\\site-packages\\sklearn\\utils\\validation.py:72: DataConversionWarning: A column-vector y was passed when a 1d array was expected. Please change the shape of y to (n_samples, ), for example using ravel().\n",
      "  return f(**kwargs)\n"
     ]
    },
    {
     "name": "stdout",
     "output_type": "stream",
     "text": [
      "Scores for dataset:  -1\n",
      "Training data score:  0.3521671826625387\n",
      "Testing data score:  0.3539731682146543\n",
      "--------------------------------------\n",
      "Scores for dataset:  0\n",
      "Training data score:  0.3521671826625387\n",
      "Testing data score:  0.3539731682146543\n",
      "--------------------------------------\n",
      "Scores for dataset:  1\n",
      "Training data score:  0.3521671826625387\n",
      "Testing data score:  0.3539731682146543\n",
      "--------------------------------------\n",
      "Scores for dataset:  2\n",
      "Training data score:  0.09739422084623323\n",
      "Testing data score:  0.0913312693498452\n",
      "--------------------------------------\n",
      "Scores for dataset:  3\n",
      "Training data score:  0.7023993808049536\n",
      "Testing data score:  0.7136222910216719\n",
      "--------------------------------------\n",
      "Scores for dataset:  4\n",
      "Training data score:  0.5750773993808049\n",
      "Testing data score:  0.5877192982456141\n",
      "--------------------------------------\n",
      "Scores for dataset:  5\n",
      "Training data score:  0.4135706914344685\n",
      "Testing data score:  0.41228070175438597\n",
      "--------------------------------------\n",
      "Scores for dataset:  6\n",
      "Training data score:  0.6233230134158927\n",
      "Testing data score:  0.6346749226006192\n",
      "--------------------------------------\n",
      "Scores for dataset:  7\n",
      "Training data score:  0.4947110423116615\n",
      "Testing data score:  0.5072239422084623\n",
      "--------------------------------------\n",
      "Scores for dataset:  8\n",
      "Training data score:  0.7578689370485037\n",
      "Testing data score:  0.759545923632611\n",
      "--------------------------------------\n",
      "Scores for dataset:  9\n",
      "Training data score:  0.7596749226006192\n",
      "Testing data score:  0.7734778121775026\n",
      "--------------------------------------\n"
     ]
    }
   ],
   "source": [
    "from NaiveBayse import NaiveBayseMultinomial\n",
    "%load_ext autoreload\n",
    "%autoreload 2\n",
    "\n",
    "classifiers, scores = NaiveBayseMultinomial.build_nbc_models()"
   ]
  },
  {
   "cell_type": "code",
   "execution_count": null,
   "metadata": {},
   "outputs": [],
   "source": []
  }
 ],
 "metadata": {
  "kernelspec": {
   "display_name": "Python 3",
   "language": "python",
   "name": "python3"
  },
  "language_info": {
   "codemirror_mode": {
    "name": "ipython",
    "version": 3
   },
   "file_extension": ".py",
   "mimetype": "text/x-python",
   "name": "python",
   "nbconvert_exporter": "python",
   "pygments_lexer": "ipython3",
   "version": "3.8.5"
  }
 },
 "nbformat": 4,
 "nbformat_minor": 4
}
