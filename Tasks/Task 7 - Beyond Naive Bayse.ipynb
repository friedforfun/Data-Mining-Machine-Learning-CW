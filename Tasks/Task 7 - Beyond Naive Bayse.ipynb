{
 "cells": [
  {
   "cell_type": "markdown",
   "metadata": {},
   "source": [
    "# Beyond Naïve Bayes: complex Bayesian Network Architectures\n",
    "Build two or three Bayes networks of more complex architecture for (a smaller version of) this data set, increasing the number\n",
    "of connections among the nodes. Construct one of them semi-manually (e.g use K2 algorithm and vary the maximum number of parents), and two others – using Weka’s algorithms for learning Bayes net construction (e.g. use TAN or Hill Climbing algorithms). Run the experiments described in item 5 on these new Bayes network architectures. Record, compare and analyse the outputs, in the light of the previous conclusions about the given data. "
   ]
  },
  {
   "cell_type": "code",
   "execution_count": 1,
   "metadata": {},
   "outputs": [],
   "source": [
    "import math\n",
    "import numpy as np\n",
    "import pandas as pd\n",
    "#from pomegranate import *\n",
    "\n",
    "import pgmpy.models\n",
    "import pgmpy.inference\n",
    "import networkx as nx\n",
    "import pylab as plt"
   ]
  },
  {
   "cell_type": "code",
   "execution_count": 5,
   "metadata": {},
   "outputs": [],
   "source": [
    "pixel_values = [x for x in range(0, 256)]\n",
    "\n"
   ]
  },
  {
   "cell_type": "code",
   "execution_count": 6,
   "metadata": {},
   "outputs": [
    {
     "output_type": "stream",
     "name": "stderr",
     "text": [
      "Finding Elimination Order: : : 0it [00:00, ?it/s]\n",
      "0it [00:00, ?it/s]Probability distribution, P(Guest)\n",
      "+----------+------+\n",
      "| Guest(0) | 0.33 |\n",
      "+----------+------+\n",
      "| Guest(1) | 0.33 |\n",
      "+----------+------+\n",
      "| Guest(2) | 0.33 |\n",
      "+----------+------+\n",
      "\n",
      "Probability distribution, P(Price)\n",
      "+----------+------+\n",
      "| Prize(0) | 0.33 |\n",
      "+----------+------+\n",
      "| Prize(1) | 0.33 |\n",
      "+----------+------+\n",
      "| Prize(2) | 0.33 |\n",
      "+----------+------+\n",
      "\n",
      "Joint probability distribution, P(Monty | Guest, Price)\n",
      "+----------+----------+----------+----------+----------+----------+----------+----------+----------+----------+\n",
      "| Guest    | Guest(0) | Guest(0) | Guest(0) | Guest(1) | Guest(1) | Guest(1) | Guest(2) | Guest(2) | Guest(2) |\n",
      "+----------+----------+----------+----------+----------+----------+----------+----------+----------+----------+\n",
      "| Prize    | Prize(0) | Prize(1) | Prize(2) | Prize(0) | Prize(1) | Prize(2) | Prize(0) | Prize(1) | Prize(2) |\n",
      "+----------+----------+----------+----------+----------+----------+----------+----------+----------+----------+\n",
      "| Monty(0) | 0.0      | 0.0      | 0.0      | 0.0      | 0.5      | 1.0      | 0.0      | 1.0      | 0.5      |\n",
      "+----------+----------+----------+----------+----------+----------+----------+----------+----------+----------+\n",
      "| Monty(1) | 0.5      | 0.0      | 1.0      | 0.0      | 0.0      | 0.0      | 1.0      | 0.0      | 0.5      |\n",
      "+----------+----------+----------+----------+----------+----------+----------+----------+----------+----------+\n",
      "| Monty(2) | 0.5      | 1.0      | 0.0      | 1.0      | 0.5      | 0.0      | 0.0      | 0.0      | 0.0      |\n",
      "+----------+----------+----------+----------+----------+----------+----------+----------+----------+----------+\n",
      "\n",
      "Posterior probability, Guest(0) and Monty(2)\n",
      "+----------+--------------+\n",
      "| Prize    |   phi(Prize) |\n",
      "+==========+==============+\n",
      "| Prize(0) |       0.3333 |\n",
      "+----------+--------------+\n",
      "| Prize(1) |       0.6667 |\n",
      "+----------+--------------+\n",
      "| Prize(2) |       0.0000 |\n",
      "+----------+--------------+\n",
      "\n",
      "\n"
     ]
    }
   ],
   "source": [
    "# Example\n",
    "\n",
    "# Create a bayesian network\n",
    "model = pgmpy.models.BayesianModel([('Guest', 'Monty'), \n",
    "                                    ('Prize', 'Monty')])\n",
    "\n",
    "# Define conditional probability distributions (CPD)\n",
    "# Probability of guest selecting door 0, 1 and 2\n",
    "cpd_guest = pgmpy.factors.discrete.TabularCPD('Guest', 3, [[0.33], [0.33], [0.33]])\n",
    "# Probability that the price is behind door 0, 1 and 2\n",
    "cpd_prize = pgmpy.factors.discrete.TabularCPD('Prize', 3, [[0.33], [0.33], [0.33]])\n",
    "# Probability that Monty selects a door (0, 1, 2), when we know which door the guest has selected and we know were the prize is\n",
    "cpd_monty = pgmpy.factors.discrete.TabularCPD('Monty', 3, [[0, 0, 0, 0, 0.5, 1, 0, 1, 0.5], \n",
    "                                                           [0.5, 0, 1, 0, 0, 0, 1, 0, 0.5], \n",
    "                                                           [0.5, 1, 0, 1, 0.5, 0, 0, 0, 0]], \n",
    "                                              evidence=['Guest', 'Prize'], \n",
    "                                              evidence_card=[3, 3])\n",
    "\n",
    "# Add CPDs to the network structure\n",
    "model.add_cpds(cpd_guest, cpd_prize, cpd_monty)\n",
    "\n",
    "# Check if the model is valid, throw an exception otherwise\n",
    "model.check_model()\n",
    "# Print probability distributions\n",
    "print('Probability distribution, P(Guest)')\n",
    "print(cpd_guest)\n",
    "print()\n",
    "print('Probability distribution, P(Price)')\n",
    "print(cpd_prize)\n",
    "print()\n",
    "print('Joint probability distribution, P(Monty | Guest, Price)')\n",
    "print(cpd_monty)\n",
    "print()\n",
    "\n",
    "# Plot the model\n",
    "nx.draw(model, with_labels=True)\n",
    "#plt.savefig('C:\\\\DATA\\\\Python-data\\\\bayesian-networks\\\\monty-hall.png')\n",
    "plt.close()\n",
    "\n",
    "# Perform variable elimination for inference\n",
    "# Variable elimination (VE) is a an exact inference algorithm in bayesian networks\n",
    "infer = pgmpy.inference.VariableElimination(model)\n",
    "\n",
    "# Calculate probabilites for doors including prize, the guest has selected door 0 and Monty has selected door 2\n",
    "posterior_probability = infer.query(['Prize'], evidence={'Guest': 0, 'Monty': 2})\n",
    "\n",
    "# Print posterior probability\n",
    "print('Posterior probability, Guest(0) and Monty(2)')\n",
    "print(posterior_probability)\n",
    "print()"
   ]
  },
  {
   "source": [
    "## Specific for "
   ],
   "cell_type": "markdown",
   "metadata": {}
  },
  {
   "cell_type": "code",
   "execution_count": 2,
   "metadata": {},
   "outputs": [],
   "source": [
    "from Scripts import helperfn as hf\n",
    "from Scripts import pixelFinder as pf \n",
    "from Scripts.NaiveBayse import SamNaiveBayseGaussian as nbg\n",
    "%load_ext autoreload\n",
    "%autoreload 2\n"
   ]
  },
  {
   "cell_type": "code",
   "execution_count": 8,
   "metadata": {},
   "outputs": [],
   "source": [
    "pixels = pf.get_top_pixels(5)"
   ]
  },
  {
   "cell_type": "code",
   "execution_count": 9,
   "metadata": {},
   "outputs": [],
   "source": [
    "raw_data = pf.data_lists()"
   ]
  },
  {
   "cell_type": "code",
   "execution_count": 87,
   "metadata": {},
   "outputs": [],
   "source": [
    "X, y = raw_data[1]"
   ]
  },
  {
   "cell_type": "code",
   "execution_count": 88,
   "metadata": {},
   "outputs": [
    {
     "output_type": "execute_result",
     "data": {
      "text/plain": [
       "(9690, 1)"
      ]
     },
     "metadata": {},
     "execution_count": 88
    }
   ],
   "source": [
    "y.shape"
   ]
  },
  {
   "cell_type": "code",
   "execution_count": 89,
   "metadata": {},
   "outputs": [
    {
     "output_type": "execute_result",
     "data": {
      "text/plain": [
       "(9690, 5)"
      ]
     },
     "metadata": {},
     "execution_count": 89
    }
   ],
   "source": [
    "five_pixels = np.take(X, pixels[1], axis=1)\n",
    "five_pixels.shape"
   ]
  },
  {
   "cell_type": "code",
   "execution_count": 90,
   "metadata": {},
   "outputs": [],
   "source": [
    "test = five_pixels[0:423]\n",
    "result_col = y.copy()\n",
    "y = y[0:423]\n",
    "\n"
   ]
  },
  {
   "cell_type": "code",
   "execution_count": 91,
   "metadata": {},
   "outputs": [
    {
     "output_type": "execute_result",
     "data": {
      "text/plain": [
       "(9690, 1)"
      ]
     },
     "metadata": {},
     "execution_count": 91
    }
   ],
   "source": [
    "result_col.shape"
   ]
  },
  {
   "cell_type": "code",
   "execution_count": 92,
   "metadata": {},
   "outputs": [
    {
     "output_type": "execute_result",
     "data": {
      "text/plain": [
       "array([1714, 1762, 1761, 1743, 1694], dtype=int64)"
      ]
     },
     "metadata": {},
     "execution_count": 92
    }
   ],
   "source": [
    "pixels[0]"
   ]
  },
  {
   "cell_type": "code",
   "execution_count": 15,
   "metadata": {},
   "outputs": [],
   "source": [
    "model = pgmpy.models.BayesianModel([('1362', 'speed limit 20'), \n",
    "                                    ('982', 'speed limit 20'),\n",
    "                                    ('1030', 'speed limit 20'),\n",
    "                                    ('1315', 'speed limit 20'),\n",
    "                                    ('1314', 'speed limit 20')])"
   ]
  },
  {
   "cell_type": "code",
   "execution_count": 16,
   "metadata": {},
   "outputs": [],
   "source": [
    "def get_CPD(data, pixel_index, cardinality=256):\n",
    "    #conditional probability distribution table for pixel at index\n",
    "    entries = data.shape[0]\n",
    "    calc = np.zeros(cardinality, dtype=int)\n",
    "\n",
    "    for i in range(entries):\n",
    "        val = data[i][pixel_index].astype(int)\n",
    "        calc[val] += 1\n",
    "\n",
    "    calc = calc/entries\n",
    "    return calc[..., None].tolist()\n",
    "\n",
    "def pixels_as_string(pixels):\n",
    "    return list(map(str, pixels))\n",
    "\n"
   ]
  },
  {
   "cell_type": "code",
   "execution_count": 17,
   "metadata": {},
   "outputs": [],
   "source": [
    "#cpd_1362 = pgmpy.factors.discrete.TabularCPD('1362', 256, get_CPD(test, 0))\n",
    "#print('Probability distribution, P(1362)')\n",
    "#print(cpd_1362)"
   ]
  },
  {
   "cell_type": "code",
   "execution_count": 18,
   "metadata": {},
   "outputs": [],
   "source": [
    "cpd_labels = pixels_as_string(pixels[1])\n",
    "\n",
    "independant_cpd_pixel_tables = [pgmpy.factors.discrete.TabularCPD(value, 256, get_CPD(test, index)) for index, value in enumerate(cpd_labels)]\n",
    "independant_cpd_class_table = pgmpy.factors.discrete.TabularCPD('speed limit 20', 2, get_CPD(y, 0, cardinality=2))"
   ]
  },
  {
   "cell_type": "code",
   "execution_count": 19,
   "metadata": {},
   "outputs": [
    {
     "output_type": "stream",
     "name": "stdout",
     "text": [
      "+-------------------+----------+\n| speed limit 20(0) | 0.496454 |\n+-------------------+----------+\n| speed limit 20(1) | 0.503546 |\n+-------------------+----------+\n"
     ]
    }
   ],
   "source": [
    "print(independant_cpd_class_table)"
   ]
  },
  {
   "cell_type": "code",
   "execution_count": 21,
   "metadata": {},
   "outputs": [],
   "source": [
    "#len(independant_cpd_tables)\n",
    "#independant_cpd_tables[0].get_values()[55]\n",
    "\n",
    "# need equal width binning for the grayscale values, try bin sizes of between 8 and 16"
   ]
  },
  {
   "cell_type": "code",
   "execution_count": 22,
   "metadata": {},
   "outputs": [],
   "source": [
    "from itertools import combinations\n",
    "\n",
    "from pgmpy.estimators import HillClimbSearch, ExhaustiveSearch\n",
    "from pgmpy.estimators import K2Score"
   ]
  },
  {
   "cell_type": "code",
   "execution_count": 76,
   "metadata": {},
   "outputs": [],
   "source": [
    "test = pd.DataFrame(five_pixels[0:423])\n",
    "y = pd.DataFrame(y[0:423])\n"
   ]
  },
  {
   "cell_type": "code",
   "execution_count": 77,
   "metadata": {},
   "outputs": [
    {
     "output_type": "execute_result",
     "data": {
      "text/plain": [
       "(423, 1)"
      ]
     },
     "metadata": {},
     "execution_count": 77
    }
   ],
   "source": [
    "y.shape"
   ]
  },
  {
   "cell_type": "code",
   "execution_count": 38,
   "metadata": {},
   "outputs": [
    {
     "output_type": "execute_result",
     "data": {
      "text/plain": [
       "      1362    982   1030   1315   1314  y\n",
       "0    160.0  191.0  155.0  166.0  195.0  0\n",
       "1    218.0  141.0  132.0  192.0  226.0  0\n",
       "2    166.0  142.0  135.0  148.0  194.0  0\n",
       "3    152.0  136.0  127.0  121.0  161.0  0\n",
       "4    212.0  212.0  151.0  192.0  224.0  0\n",
       "..     ...    ...    ...    ...    ... ..\n",
       "418  255.0  255.0  255.0  254.0  255.0  1\n",
       "419  255.0  254.0  253.0  255.0  255.0  1\n",
       "420  255.0  250.0  222.0  255.0  255.0  1\n",
       "421  255.0  226.0  211.0  255.0  255.0  1\n",
       "422  255.0  224.0  191.0  255.0  255.0  1\n",
       "\n",
       "[423 rows x 6 columns]"
      ],
      "text/html": "<div>\n<style scoped>\n    .dataframe tbody tr th:only-of-type {\n        vertical-align: middle;\n    }\n\n    .dataframe tbody tr th {\n        vertical-align: top;\n    }\n\n    .dataframe thead th {\n        text-align: right;\n    }\n</style>\n<table border=\"1\" class=\"dataframe\">\n  <thead>\n    <tr style=\"text-align: right;\">\n      <th></th>\n      <th>1362</th>\n      <th>982</th>\n      <th>1030</th>\n      <th>1315</th>\n      <th>1314</th>\n      <th>y</th>\n    </tr>\n  </thead>\n  <tbody>\n    <tr>\n      <th>0</th>\n      <td>160.0</td>\n      <td>191.0</td>\n      <td>155.0</td>\n      <td>166.0</td>\n      <td>195.0</td>\n      <td>0</td>\n    </tr>\n    <tr>\n      <th>1</th>\n      <td>218.0</td>\n      <td>141.0</td>\n      <td>132.0</td>\n      <td>192.0</td>\n      <td>226.0</td>\n      <td>0</td>\n    </tr>\n    <tr>\n      <th>2</th>\n      <td>166.0</td>\n      <td>142.0</td>\n      <td>135.0</td>\n      <td>148.0</td>\n      <td>194.0</td>\n      <td>0</td>\n    </tr>\n    <tr>\n      <th>3</th>\n      <td>152.0</td>\n      <td>136.0</td>\n      <td>127.0</td>\n      <td>121.0</td>\n      <td>161.0</td>\n      <td>0</td>\n    </tr>\n    <tr>\n      <th>4</th>\n      <td>212.0</td>\n      <td>212.0</td>\n      <td>151.0</td>\n      <td>192.0</td>\n      <td>224.0</td>\n      <td>0</td>\n    </tr>\n    <tr>\n      <th>...</th>\n      <td>...</td>\n      <td>...</td>\n      <td>...</td>\n      <td>...</td>\n      <td>...</td>\n      <td>...</td>\n    </tr>\n    <tr>\n      <th>418</th>\n      <td>255.0</td>\n      <td>255.0</td>\n      <td>255.0</td>\n      <td>254.0</td>\n      <td>255.0</td>\n      <td>1</td>\n    </tr>\n    <tr>\n      <th>419</th>\n      <td>255.0</td>\n      <td>254.0</td>\n      <td>253.0</td>\n      <td>255.0</td>\n      <td>255.0</td>\n      <td>1</td>\n    </tr>\n    <tr>\n      <th>420</th>\n      <td>255.0</td>\n      <td>250.0</td>\n      <td>222.0</td>\n      <td>255.0</td>\n      <td>255.0</td>\n      <td>1</td>\n    </tr>\n    <tr>\n      <th>421</th>\n      <td>255.0</td>\n      <td>226.0</td>\n      <td>211.0</td>\n      <td>255.0</td>\n      <td>255.0</td>\n      <td>1</td>\n    </tr>\n    <tr>\n      <th>422</th>\n      <td>255.0</td>\n      <td>224.0</td>\n      <td>191.0</td>\n      <td>255.0</td>\n      <td>255.0</td>\n      <td>1</td>\n    </tr>\n  </tbody>\n</table>\n<p>423 rows × 6 columns</p>\n</div>"
     },
     "metadata": {},
     "execution_count": 38
    }
   ],
   "source": [
    "y.columns = ['y']\n",
    "test = test.join(y)\n",
    "test"
   ]
  },
  {
   "cell_type": "code",
   "execution_count": 39,
   "metadata": {},
   "outputs": [],
   "source": [
    "test = pd.DataFrame(test)\n",
    "scoring_method = K2Score(data=test)\n",
    "est = HillClimbSearch(data=test, scoring_method=scoring_method)\n",
    "estimated_model = est.estimate(max_indegree=4, max_iter=int(1e4))"
   ]
  },
  {
   "cell_type": "code",
   "execution_count": 46,
   "metadata": {},
   "outputs": [
    {
     "output_type": "execute_result",
     "data": {
      "text/plain": [
       "OutEdgeView([('1030', '982'), ('1314', '1315'), ('1314', '1362'), ('1314', '1030'), ('y', '1314'), ('y', '1362'), ('y', '1030')])"
      ]
     },
     "metadata": {},
     "execution_count": 46
    }
   ],
   "source": [
    "estimated_model.edges()"
   ]
  },
  {
   "cell_type": "code",
   "execution_count": null,
   "metadata": {},
   "outputs": [],
   "source": [
    "learned edges = [('1030', '982'), ('1314', '1315'), ('1314', '1362'), ('1314', '1030'), ('y', '1314'), ('y', '1362'), ('y', '1030')]"
   ]
  },
  {
   "cell_type": "code",
   "execution_count": 44,
   "metadata": {},
   "outputs": [],
   "source": [
    "from pgmpy.models import BayesianModel"
   ]
  },
  {
   "cell_type": "code",
   "execution_count": 48,
   "metadata": {},
   "outputs": [
    {
     "output_type": "execute_result",
     "data": {
      "text/plain": [
       "NodeView(('1030', '982', '1314', '1315', '1362', 'y'))"
      ]
     },
     "metadata": {},
     "execution_count": 48
    }
   ],
   "source": [
    "\n",
    "model_struct = BayesianModel(estimated_model.edges)\n",
    "model_struct.nodes()"
   ]
  },
  {
   "cell_type": "code",
   "execution_count": 53,
   "metadata": {},
   "outputs": [
    {
     "output_type": "execute_result",
     "data": {
      "text/plain": [
       "[<TabularCPD representing P(1030:169 | 1314:182, y:2) at 0x1ee45c31be0>,\n",
       " <TabularCPD representing P(1314:182 | y:2) at 0x1ee45c32eb0>,\n",
       " <TabularCPD representing P(1315:177 | 1314:182) at 0x1ee45c314c0>,\n",
       " <TabularCPD representing P(1362:173 | 1314:182, y:2) at 0x1ee459f6730>,\n",
       " <TabularCPD representing P(982:174 | 1030:169) at 0x1ee45c31910>,\n",
       " <TabularCPD representing P(y:2) at 0x1ee45c31490>]"
      ]
     },
     "metadata": {},
     "execution_count": 53
    }
   ],
   "source": [
    "from pgmpy.estimators import MaximumLikelihoodEstimator\n",
    "\n",
    "mle.get_parameters()[:10]"
   ]
  },
  {
   "cell_type": "code",
   "execution_count": 54,
   "metadata": {
    "tags": []
   },
   "outputs": [],
   "source": [
    "from pgmpy.estimators import BayesianEstimator"
   ]
  },
  {
   "cell_type": "code",
   "execution_count": 55,
   "metadata": {},
   "outputs": [],
   "source": [
    "model_struct.fit(data=test, estimator=MaximumLikelihoodEstimator)\n"
   ]
  },
  {
   "cell_type": "code",
   "execution_count": 57,
   "metadata": {},
   "outputs": [
    {
     "output_type": "stream",
     "name": "stdout",
     "text": [
      "[<TabularCPD representing P(1030:169 | 1314:182, y:2) at 0x1ee46009310>, <TabularCPD representing P(1314:182 | y:2) at 0x1ee46009430>, <TabularCPD representing P(1315:177 | 1314:182) at 0x1ee46009760>, <TabularCPD representing P(1362:173 | 1314:182, y:2) at 0x1ee458e7340>, <TabularCPD representing P(982:174 | 1030:169) at 0x1ee46019670>, <TabularCPD representing P(y:2) at 0x1ee46019880>]\n"
     ]
    }
   ],
   "source": [
    "print(model_struct.get_cpds())\n"
   ]
  },
  {
   "cell_type": "code",
   "execution_count": 65,
   "metadata": {},
   "outputs": [
    {
     "output_type": "stream",
     "name": "stderr",
     "text": [
      "Finding Elimination Order: :   0%|          | 0/4 [00:00<?, ?it/s]\n",
      "  0%|          | 0/4 [00:00<?, ?it/s]\u001b[A\n",
      "Eliminating: 982:   0%|          | 0/4 [00:00<?, ?it/s]\u001b[A\n",
      "Finding Elimination Order: : 100%|██████████| 4/4 [00:00<00:00, 444.45it/s]\n",
      "\n",
      "Eliminating: 1315:   0%|          | 0/4 [00:00<?, ?it/s]\u001b[A\n",
      "Eliminating: 1314: 100%|██████████| 4/4 [00:00<00:00, 222.39it/s]\n"
     ]
    }
   ],
   "source": [
    "from pgmpy.inference import VariableElimination\n",
    "five_pix_infer = VariableElimination(model_struct)\n",
    "\n",
    "q = five_pix_infer.query(variables=['y'], evidence={'1362': 255})"
   ]
  },
  {
   "cell_type": "code",
   "execution_count": 66,
   "metadata": {},
   "outputs": [
    {
     "output_type": "stream",
     "name": "stdout",
     "text": [
      "+------+----------+\n| y    |   phi(y) |\n+======+==========+\n| y(0) |   0.0000 |\n+------+----------+\n| y(1) |   1.0000 |\n+------+----------+\n"
     ]
    }
   ],
   "source": [
    "print(q)"
   ]
  },
  {
   "cell_type": "code",
   "execution_count": 93,
   "metadata": {},
   "outputs": [
    {
     "output_type": "execute_result",
     "data": {
      "text/plain": [
       "      1362    982   1030   1315   1314\n",
       "423  255.0  205.0  199.0  255.0  255.0"
      ],
      "text/html": "<div>\n<style scoped>\n    .dataframe tbody tr th:only-of-type {\n        vertical-align: middle;\n    }\n\n    .dataframe tbody tr th {\n        vertical-align: top;\n    }\n\n    .dataframe thead th {\n        text-align: right;\n    }\n</style>\n<table border=\"1\" class=\"dataframe\">\n  <thead>\n    <tr style=\"text-align: right;\">\n      <th></th>\n      <th>1362</th>\n      <th>982</th>\n      <th>1030</th>\n      <th>1315</th>\n      <th>1314</th>\n    </tr>\n  </thead>\n  <tbody>\n    <tr>\n      <th>423</th>\n      <td>255.0</td>\n      <td>205.0</td>\n      <td>199.0</td>\n      <td>255.0</td>\n      <td>255.0</td>\n    </tr>\n  </tbody>\n</table>\n</div>"
     },
     "metadata": {},
     "execution_count": 93
    }
   ],
   "source": [
    "test_data = five_pixels[423:424]\n",
    "test_result = result_col[423:424]\n",
    "\n",
    "test_data\n"
   ]
  },
  {
   "cell_type": "code",
   "execution_count": 102,
   "metadata": {},
   "outputs": [],
   "source": [
    "evidence = {'1362': 255, '982': 205, '1030':199, '1315':255, '1314': 255}"
   ]
  },
  {
   "cell_type": "code",
   "execution_count": 94,
   "metadata": {},
   "outputs": [
    {
     "output_type": "execute_result",
     "data": {
      "text/plain": [
       "     y\n",
       "423  1"
      ],
      "text/html": "<div>\n<style scoped>\n    .dataframe tbody tr th:only-of-type {\n        vertical-align: middle;\n    }\n\n    .dataframe tbody tr th {\n        vertical-align: top;\n    }\n\n    .dataframe thead th {\n        text-align: right;\n    }\n</style>\n<table border=\"1\" class=\"dataframe\">\n  <thead>\n    <tr style=\"text-align: right;\">\n      <th></th>\n      <th>y</th>\n    </tr>\n  </thead>\n  <tbody>\n    <tr>\n      <th>423</th>\n      <td>1</td>\n    </tr>\n  </tbody>\n</table>\n</div>"
     },
     "metadata": {},
     "execution_count": 94
    }
   ],
   "source": [
    "test_result"
   ]
  },
  {
   "cell_type": "code",
   "execution_count": 105,
   "metadata": {},
   "outputs": [
    {
     "output_type": "stream",
     "name": "stderr",
     "text": [
      "Finding Elimination Order: :   0%|          | 0/4 [00:00<?, ?it/s]\n",
      "  0%|          | 0/4 [00:00<?, ?it/s]\u001b[A\n",
      "Eliminating: 982:   0%|          | 0/4 [00:00<?, ?it/s]\u001b[A\n",
      "Finding Elimination Order: : 100%|██████████| 4/4 [00:00<00:00, 444.36it/s]\n",
      "\n",
      "Eliminating: 1362:   0%|          | 0/4 [00:00<?, ?it/s]\u001b[A\n",
      "Eliminating: 1314: 100%|██████████| 4/4 [00:00<00:00, 190.48it/s]+------+----------+\n",
      "| y    |   phi(y) |\n",
      "+======+==========+\n",
      "| y(0) |   0.0000 |\n",
      "+------+----------+\n",
      "| y(1) |   1.0000 |\n",
      "+------+----------+\n",
      "\n"
     ]
    }
   ],
   "source": [
    "q = five_pix_infer.query(variables=['y'], evidence={'1315':255})\n",
    "print(q)"
   ]
  },
  {
   "cell_type": "code",
   "execution_count": 3,
   "metadata": {},
   "outputs": [],
   "source": [
    "X, y = hf.get_ewb_data(0)"
   ]
  },
  {
   "cell_type": "code",
   "execution_count": 5,
   "metadata": {},
   "outputs": [],
   "source": [
    "y.columns = ['y']\n",
    "X = X.join(y)"
   ]
  },
  {
   "cell_type": "code",
   "execution_count": 10,
   "metadata": {},
   "outputs": [],
   "source": [
    "pixels = pf.get_top_pixels(10)"
   ]
  },
  {
   "cell_type": "code",
   "execution_count": 11,
   "metadata": {},
   "outputs": [
    {
     "output_type": "execute_result",
     "data": {
      "text/plain": [
       "(9690, 10)"
      ]
     },
     "metadata": {},
     "execution_count": 11
    }
   ],
   "source": [
    "ten_pixels = np.take(X, pixels[1], axis=1)\n",
    "ten_pixels.shape"
   ]
  },
  {
   "cell_type": "code",
   "execution_count": null,
   "metadata": {},
   "outputs": [],
   "source": [
    "ten_pixels.join(y)"
   ]
  },
  {
   "cell_type": "code",
   "execution_count": 38,
   "metadata": {},
   "outputs": [
    {
     "output_type": "execute_result",
     "data": {
      "text/plain": [
       "                 1362              982             1030             1315  \\\n",
       "0          light grey       light grey  semi light grey       light grey   \n",
       "1     very light grey  semi light grey  semi light grey  very light grey   \n",
       "2          light grey  semi light grey  semi light grey  semi light grey   \n",
       "3     semi light grey  semi light grey   semi dark grey   semi dark grey   \n",
       "4     very light grey  very light grey  semi light grey  very light grey   \n",
       "...               ...              ...              ...              ...   \n",
       "9685   semi dark grey   semi dark grey   semi dark grey        dark grey   \n",
       "9686   semi dark grey   semi dark grey   semi dark grey        dark grey   \n",
       "9687   semi dark grey   semi dark grey   semi dark grey   very dark grey   \n",
       "9688   semi dark grey   semi dark grey   semi dark grey        dark grey   \n",
       "9689        dark grey        dark grey        dark grey   very dark grey   \n",
       "\n",
       "                 1314             1078             1409             1031  \\\n",
       "0     very light grey  semi light grey  semi light grey       light grey   \n",
       "1               white  semi light grey       light grey  semi light grey   \n",
       "2     very light grey       light grey       light grey   semi dark grey   \n",
       "3          light grey   semi dark grey       light grey  semi light grey   \n",
       "4               white  semi light grey  very light grey       light grey   \n",
       "...               ...              ...              ...              ...   \n",
       "9685   semi dark grey   semi dark grey   semi dark grey   semi dark grey   \n",
       "9686   semi dark grey   semi dark grey   semi dark grey   semi dark grey   \n",
       "9687   semi dark grey   semi dark grey   semi dark grey   semi dark grey   \n",
       "9688   semi dark grey   semi dark grey        dark grey   semi dark grey   \n",
       "9689        dark grey        dark grey        dark grey        dark grey   \n",
       "\n",
       "                 1410              934  y  \n",
       "0      semi dark grey  very light grey  0  \n",
       "1     very light grey       light grey  0  \n",
       "2     semi light grey       light grey  0  \n",
       "3     semi light grey  semi light grey  0  \n",
       "4     very light grey            white  0  \n",
       "...               ...              ... ..  \n",
       "9685   semi dark grey   semi dark grey  1  \n",
       "9686   semi dark grey   semi dark grey  1  \n",
       "9687        dark grey   semi dark grey  1  \n",
       "9688        dark grey        dark grey  1  \n",
       "9689        dark grey        dark grey  1  \n",
       "\n",
       "[9690 rows x 11 columns]"
      ],
      "text/html": "<div>\n<style scoped>\n    .dataframe tbody tr th:only-of-type {\n        vertical-align: middle;\n    }\n\n    .dataframe tbody tr th {\n        vertical-align: top;\n    }\n\n    .dataframe thead th {\n        text-align: right;\n    }\n</style>\n<table border=\"1\" class=\"dataframe\">\n  <thead>\n    <tr style=\"text-align: right;\">\n      <th></th>\n      <th>1362</th>\n      <th>982</th>\n      <th>1030</th>\n      <th>1315</th>\n      <th>1314</th>\n      <th>1078</th>\n      <th>1409</th>\n      <th>1031</th>\n      <th>1410</th>\n      <th>934</th>\n      <th>y</th>\n    </tr>\n  </thead>\n  <tbody>\n    <tr>\n      <th>0</th>\n      <td>light grey</td>\n      <td>light grey</td>\n      <td>semi light grey</td>\n      <td>light grey</td>\n      <td>very light grey</td>\n      <td>semi light grey</td>\n      <td>semi light grey</td>\n      <td>light grey</td>\n      <td>semi dark grey</td>\n      <td>very light grey</td>\n      <td>0</td>\n    </tr>\n    <tr>\n      <th>1</th>\n      <td>very light grey</td>\n      <td>semi light grey</td>\n      <td>semi light grey</td>\n      <td>very light grey</td>\n      <td>white</td>\n      <td>semi light grey</td>\n      <td>light grey</td>\n      <td>semi light grey</td>\n      <td>very light grey</td>\n      <td>light grey</td>\n      <td>0</td>\n    </tr>\n    <tr>\n      <th>2</th>\n      <td>light grey</td>\n      <td>semi light grey</td>\n      <td>semi light grey</td>\n      <td>semi light grey</td>\n      <td>very light grey</td>\n      <td>light grey</td>\n      <td>light grey</td>\n      <td>semi dark grey</td>\n      <td>semi light grey</td>\n      <td>light grey</td>\n      <td>0</td>\n    </tr>\n    <tr>\n      <th>3</th>\n      <td>semi light grey</td>\n      <td>semi light grey</td>\n      <td>semi dark grey</td>\n      <td>semi dark grey</td>\n      <td>light grey</td>\n      <td>semi dark grey</td>\n      <td>light grey</td>\n      <td>semi light grey</td>\n      <td>semi light grey</td>\n      <td>semi light grey</td>\n      <td>0</td>\n    </tr>\n    <tr>\n      <th>4</th>\n      <td>very light grey</td>\n      <td>very light grey</td>\n      <td>semi light grey</td>\n      <td>very light grey</td>\n      <td>white</td>\n      <td>semi light grey</td>\n      <td>very light grey</td>\n      <td>light grey</td>\n      <td>very light grey</td>\n      <td>white</td>\n      <td>0</td>\n    </tr>\n    <tr>\n      <th>...</th>\n      <td>...</td>\n      <td>...</td>\n      <td>...</td>\n      <td>...</td>\n      <td>...</td>\n      <td>...</td>\n      <td>...</td>\n      <td>...</td>\n      <td>...</td>\n      <td>...</td>\n      <td>...</td>\n    </tr>\n    <tr>\n      <th>9685</th>\n      <td>semi dark grey</td>\n      <td>semi dark grey</td>\n      <td>semi dark grey</td>\n      <td>dark grey</td>\n      <td>semi dark grey</td>\n      <td>semi dark grey</td>\n      <td>semi dark grey</td>\n      <td>semi dark grey</td>\n      <td>semi dark grey</td>\n      <td>semi dark grey</td>\n      <td>1</td>\n    </tr>\n    <tr>\n      <th>9686</th>\n      <td>semi dark grey</td>\n      <td>semi dark grey</td>\n      <td>semi dark grey</td>\n      <td>dark grey</td>\n      <td>semi dark grey</td>\n      <td>semi dark grey</td>\n      <td>semi dark grey</td>\n      <td>semi dark grey</td>\n      <td>semi dark grey</td>\n      <td>semi dark grey</td>\n      <td>1</td>\n    </tr>\n    <tr>\n      <th>9687</th>\n      <td>semi dark grey</td>\n      <td>semi dark grey</td>\n      <td>semi dark grey</td>\n      <td>very dark grey</td>\n      <td>semi dark grey</td>\n      <td>semi dark grey</td>\n      <td>semi dark grey</td>\n      <td>semi dark grey</td>\n      <td>dark grey</td>\n      <td>semi dark grey</td>\n      <td>1</td>\n    </tr>\n    <tr>\n      <th>9688</th>\n      <td>semi dark grey</td>\n      <td>semi dark grey</td>\n      <td>semi dark grey</td>\n      <td>dark grey</td>\n      <td>semi dark grey</td>\n      <td>semi dark grey</td>\n      <td>dark grey</td>\n      <td>semi dark grey</td>\n      <td>dark grey</td>\n      <td>dark grey</td>\n      <td>1</td>\n    </tr>\n    <tr>\n      <th>9689</th>\n      <td>dark grey</td>\n      <td>dark grey</td>\n      <td>dark grey</td>\n      <td>very dark grey</td>\n      <td>dark grey</td>\n      <td>dark grey</td>\n      <td>dark grey</td>\n      <td>dark grey</td>\n      <td>dark grey</td>\n      <td>dark grey</td>\n      <td>1</td>\n    </tr>\n  </tbody>\n</table>\n<p>9690 rows × 11 columns</p>\n</div>"
     },
     "metadata": {},
     "execution_count": 38
    }
   ],
   "source": [
    "ten_pixels"
   ]
  },
  {
   "cell_type": "code",
   "execution_count": 60,
   "metadata": {},
   "outputs": [],
   "source": [
    "from itertools import combinations\n",
    "from pgmpy.models import BayesianModel\n",
    "from pgmpy.estimators import HillClimbSearch, ExhaustiveSearch\n",
    "from pgmpy.estimators import K2Score\n",
    "from pgmpy.inference import VariableElimination\n",
    "from pgmpy.estimators import MaximumLikelihoodEstimator\n",
    "import numpy as np"
   ]
  },
  {
   "cell_type": "code",
   "execution_count": 48,
   "metadata": {},
   "outputs": [
    {
     "output_type": "execute_result",
     "data": {
      "text/plain": [
       "                1362              982             1030             1315  \\\n",
       "0         light grey       light grey  semi light grey       light grey   \n",
       "1    very light grey  semi light grey  semi light grey  very light grey   \n",
       "2         light grey  semi light grey  semi light grey  semi light grey   \n",
       "3    semi light grey  semi light grey   semi dark grey   semi dark grey   \n",
       "4    very light grey  very light grey  semi light grey  very light grey   \n",
       "..               ...              ...              ...              ...   \n",
       "418            white            white            white            white   \n",
       "419            white            white            white            white   \n",
       "420            white            white  very light grey            white   \n",
       "421            white            white  very light grey            white   \n",
       "422            white            white       light grey            white   \n",
       "\n",
       "                1314             1078             1409             1031  \\\n",
       "0    very light grey  semi light grey  semi light grey       light grey   \n",
       "1              white  semi light grey       light grey  semi light grey   \n",
       "2    very light grey       light grey       light grey   semi dark grey   \n",
       "3         light grey   semi dark grey       light grey  semi light grey   \n",
       "4              white  semi light grey  very light grey       light grey   \n",
       "..               ...              ...              ...              ...   \n",
       "418            white            white            white            white   \n",
       "419            white            white            white            white   \n",
       "420            white  very light grey            white            white   \n",
       "421            white            white            white            white   \n",
       "422            white  very light grey            white            white   \n",
       "\n",
       "                1410              934  y  \n",
       "0     semi dark grey  very light grey  0  \n",
       "1    very light grey       light grey  0  \n",
       "2    semi light grey       light grey  0  \n",
       "3    semi light grey  semi light grey  0  \n",
       "4    very light grey            white  0  \n",
       "..               ...              ... ..  \n",
       "418            white            white  1  \n",
       "419            white            white  1  \n",
       "420            white            white  1  \n",
       "421            white            white  1  \n",
       "422            white            white  1  \n",
       "\n",
       "[423 rows x 11 columns]"
      ],
      "text/html": "<div>\n<style scoped>\n    .dataframe tbody tr th:only-of-type {\n        vertical-align: middle;\n    }\n\n    .dataframe tbody tr th {\n        vertical-align: top;\n    }\n\n    .dataframe thead th {\n        text-align: right;\n    }\n</style>\n<table border=\"1\" class=\"dataframe\">\n  <thead>\n    <tr style=\"text-align: right;\">\n      <th></th>\n      <th>1362</th>\n      <th>982</th>\n      <th>1030</th>\n      <th>1315</th>\n      <th>1314</th>\n      <th>1078</th>\n      <th>1409</th>\n      <th>1031</th>\n      <th>1410</th>\n      <th>934</th>\n      <th>y</th>\n    </tr>\n  </thead>\n  <tbody>\n    <tr>\n      <th>0</th>\n      <td>light grey</td>\n      <td>light grey</td>\n      <td>semi light grey</td>\n      <td>light grey</td>\n      <td>very light grey</td>\n      <td>semi light grey</td>\n      <td>semi light grey</td>\n      <td>light grey</td>\n      <td>semi dark grey</td>\n      <td>very light grey</td>\n      <td>0</td>\n    </tr>\n    <tr>\n      <th>1</th>\n      <td>very light grey</td>\n      <td>semi light grey</td>\n      <td>semi light grey</td>\n      <td>very light grey</td>\n      <td>white</td>\n      <td>semi light grey</td>\n      <td>light grey</td>\n      <td>semi light grey</td>\n      <td>very light grey</td>\n      <td>light grey</td>\n      <td>0</td>\n    </tr>\n    <tr>\n      <th>2</th>\n      <td>light grey</td>\n      <td>semi light grey</td>\n      <td>semi light grey</td>\n      <td>semi light grey</td>\n      <td>very light grey</td>\n      <td>light grey</td>\n      <td>light grey</td>\n      <td>semi dark grey</td>\n      <td>semi light grey</td>\n      <td>light grey</td>\n      <td>0</td>\n    </tr>\n    <tr>\n      <th>3</th>\n      <td>semi light grey</td>\n      <td>semi light grey</td>\n      <td>semi dark grey</td>\n      <td>semi dark grey</td>\n      <td>light grey</td>\n      <td>semi dark grey</td>\n      <td>light grey</td>\n      <td>semi light grey</td>\n      <td>semi light grey</td>\n      <td>semi light grey</td>\n      <td>0</td>\n    </tr>\n    <tr>\n      <th>4</th>\n      <td>very light grey</td>\n      <td>very light grey</td>\n      <td>semi light grey</td>\n      <td>very light grey</td>\n      <td>white</td>\n      <td>semi light grey</td>\n      <td>very light grey</td>\n      <td>light grey</td>\n      <td>very light grey</td>\n      <td>white</td>\n      <td>0</td>\n    </tr>\n    <tr>\n      <th>...</th>\n      <td>...</td>\n      <td>...</td>\n      <td>...</td>\n      <td>...</td>\n      <td>...</td>\n      <td>...</td>\n      <td>...</td>\n      <td>...</td>\n      <td>...</td>\n      <td>...</td>\n      <td>...</td>\n    </tr>\n    <tr>\n      <th>418</th>\n      <td>white</td>\n      <td>white</td>\n      <td>white</td>\n      <td>white</td>\n      <td>white</td>\n      <td>white</td>\n      <td>white</td>\n      <td>white</td>\n      <td>white</td>\n      <td>white</td>\n      <td>1</td>\n    </tr>\n    <tr>\n      <th>419</th>\n      <td>white</td>\n      <td>white</td>\n      <td>white</td>\n      <td>white</td>\n      <td>white</td>\n      <td>white</td>\n      <td>white</td>\n      <td>white</td>\n      <td>white</td>\n      <td>white</td>\n      <td>1</td>\n    </tr>\n    <tr>\n      <th>420</th>\n      <td>white</td>\n      <td>white</td>\n      <td>very light grey</td>\n      <td>white</td>\n      <td>white</td>\n      <td>very light grey</td>\n      <td>white</td>\n      <td>white</td>\n      <td>white</td>\n      <td>white</td>\n      <td>1</td>\n    </tr>\n    <tr>\n      <th>421</th>\n      <td>white</td>\n      <td>white</td>\n      <td>very light grey</td>\n      <td>white</td>\n      <td>white</td>\n      <td>white</td>\n      <td>white</td>\n      <td>white</td>\n      <td>white</td>\n      <td>white</td>\n      <td>1</td>\n    </tr>\n    <tr>\n      <th>422</th>\n      <td>white</td>\n      <td>white</td>\n      <td>light grey</td>\n      <td>white</td>\n      <td>white</td>\n      <td>very light grey</td>\n      <td>white</td>\n      <td>white</td>\n      <td>white</td>\n      <td>white</td>\n      <td>1</td>\n    </tr>\n  </tbody>\n</table>\n<p>423 rows × 11 columns</p>\n</div>"
     },
     "metadata": {},
     "execution_count": 48
    }
   ],
   "source": [
    "balanced = ten_pixels.iloc[:423]\n",
    "balanced"
   ]
  },
  {
   "cell_type": "code",
   "execution_count": 49,
   "metadata": {},
   "outputs": [],
   "source": [
    "scoring_method = K2Score(data=balanced)\n",
    "est = HillClimbSearch(data=balanced, scoring_method=scoring_method)\n",
    "estimated_model = est.estimate(max_indegree=4, max_iter=int(1e4))"
   ]
  },
  {
   "cell_type": "code",
   "execution_count": 50,
   "metadata": {},
   "outputs": [
    {
     "output_type": "execute_result",
     "data": {
      "text/plain": [
       "NodeView(('1362', '1314', '1409', '1410', 'y', '982', '1030', '1078', '1315', '1031', '934'))"
      ]
     },
     "metadata": {},
     "execution_count": 50
    }
   ],
   "source": [
    "model_struct = BayesianModel(estimated_model.edges)\n",
    "model_struct.nodes()"
   ]
  },
  {
   "cell_type": "code",
   "execution_count": 51,
   "metadata": {},
   "outputs": [],
   "source": [
    "model_struct.fit(data=ten_pixels, estimator=MaximumLikelihoodEstimator)\n"
   ]
  },
  {
   "cell_type": "code",
   "execution_count": 55,
   "metadata": {},
   "outputs": [
    {
     "output_type": "execute_result",
     "data": {
      "text/plain": [
       "True"
      ]
     },
     "metadata": {},
     "execution_count": 55
    }
   ],
   "source": [
    "model_struct.check_model()"
   ]
  },
  {
   "cell_type": "code",
   "execution_count": 52,
   "metadata": {},
   "outputs": [
    {
     "output_type": "stream",
     "name": "stderr",
     "text": [
      "Finding Elimination Order: :   0%|          | 0/1 [00:00<?, ?it/s]\n",
      "  0%|          | 0/1 [00:00<?, ?it/s]\u001b[A\n",
      "Eliminating: 1314: 100%|██████████| 1/1 [00:00<00:00, 500.27it/s]\n"
     ]
    },
    {
     "output_type": "execute_result",
     "data": {
      "text/plain": [
       "<DiscreteFactor representing phi(y:2) at 0x28517600970>"
      ]
     },
     "metadata": {},
     "execution_count": 52
    }
   ],
   "source": [
    "ten_pix_infer = VariableElimination(model_struct)\n",
    "q = ten_pix_infer.query(variables=['y'], evidence={'1362': 'dark grey', '982': 'dark grey', '1030': 'dark grey', '1315': 'very dark grey' , '1078': 'dark grey', '1409': 'dark grey', '1031': 'dark grey', '1410': 'dark grey', '934': 'dark grey'})\n",
    "q"
   ]
  },
  {
   "cell_type": "code",
   "execution_count": 53,
   "metadata": {},
   "outputs": [
    {
     "output_type": "stream",
     "name": "stdout",
     "text": [
      "1362         light grey\n982          light grey\n1030    semi light grey\n1315         light grey\n1314    very light grey\n1078    semi light grey\n1409    semi light grey\n1031         light grey\n1410     semi dark grey\n934     very light grey\ny                     0\nName: 0, dtype: object\n"
     ]
    }
   ],
   "source": [
    "ten_pixels_no_y = ten_pixels.drop('y', 1)\n",
    "print(ten_pixels.iloc[0])\n",
    "ev = ten_pixels_no_y.iloc[0].to_dict()"
   ]
  },
  {
   "cell_type": "code",
   "execution_count": 61,
   "metadata": {},
   "outputs": [
    {
     "output_type": "stream",
     "name": "stderr",
     "text": [
      "Finding Elimination Order: : : 0it [00:00, ?it/s]\n",
      "0it [00:00, ?it/s]+------+----------+\n",
      "| y    |   phi(y) |\n",
      "+======+==========+\n",
      "| y(0) |   0.0652 |\n",
      "+------+----------+\n",
      "| y(1) |   0.9348 |\n",
      "+------+----------+\n",
      "\n"
     ]
    },
    {
     "output_type": "execute_result",
     "data": {
      "text/plain": [
       "1"
      ]
     },
     "metadata": {},
     "execution_count": 61
    }
   ],
   "source": [
    "q = ten_pix_infer.query(variables=['y'], evidence=ev)\n",
    "print(q)\n",
    "np.argmax(q.values)"
   ]
  },
  {
   "cell_type": "code",
   "execution_count": 74,
   "metadata": {},
   "outputs": [],
   "source": [
    "def score_model(model, test_data, labels, result_label='y', result_cardinality=2):\n",
    "    good_pred = 0\n",
    "    for i in range(test_data.shape[0]):\n",
    "        ev = test_data.iloc[i].to_dict()\n",
    "        q = model.query(variables=[result_label], evidence=ev)\n",
    "        pred = np.argmax(q)\n",
    "        if pred == labels.iloc[i].values[0]:\n",
    "            good_pred += 1\n",
    "    return good_pred / test_data.shape[0] \n"
   ]
  },
  {
   "cell_type": "code",
   "execution_count": 79,
   "metadata": {
    "tags": [
     "outputPrepend"
    ]
   },
   "outputs": [
    {
     "output_type": "stream",
     "name": "stderr",
     "text": [
      " [00:00, ?it/s]\n",
      "Finding Elimination Order: : : 0it [00:00, ?it/s]\n",
      "Finding Elimination Order: : : 0it [00:00, ?it/s]\n",
      "0it [00:00, ?it/s]\n",
      "Finding Elimination Order: : : 0it [00:00, ?it/s]\n",
      "Finding Elimination Order: : : 0it [00:00, ?it/s]\n",
      "0it [00:00, ?it/s]\n",
      "Finding Elimination Order: : : 0it [00:00, ?it/s]\n",
      "Finding Elimination Order: : : 0it [00:00, ?it/s]\n",
      "0it [00:00, ?it/s]\n",
      "{'1362': 'light grey', '982': 'semi dark grey', '1030': 'semi dark grey', '1315': 'very light grey', '1314': 'very light grey', '1078': 'semi light grey', '1409': 'light grey', '1031': 'semi dark grey', '1410': 'semi light grey', '934': 'semi light grey'}\n",
      "{'1362': 'light grey', '982': 'semi light grey', '1030': 'semi dark grey', '1315': 'very light grey', '1314': 'very light grey', '1078': 'semi dark grey', '1409': 'semi light grey', '1031': 'semi dark grey', '1410': 'light grey', '934': 'light grey'}\n",
      "{'1362': 'light grey', '982': 'semi dark grey', '1030': 'dark grey', '1315': 'light grey', '1314': 'light grey', '1078': 'semi dark grey', '1409': 'semi light grey', '1031': 'semi dark grey', '1410': 'light grey', '934': 'semi light grey'}\n",
      "{'1362': 'semi light grey', '982': 'light grey', '1030': 'semi dark grey', '1315': 'semi dark grey', '1314': 'semi light grey', '1078': 'semi dark grey', '1409': 'semi light grey', '1031': 'semi light grey', '1410': 'semi light grey', '934': 'light grey'}\n",
      "{'1362': 'semi light grey', '982': 'semi dark grey', '1030': 'dark grey', '1315': 'semi light grey', '1314': 'semi light grey', '1078': 'dark grey', '1409': 'semi light grey', '1031': 'semi dark grey', '1410': 'semi light grey', '934': 'semi dark grey'}\n",
      "Finding Elimination Order: : : 0it [00:00, ?it/s]\n",
      "Finding Elimination Order: : : 0it [00:00, ?it/s]\n",
      "0it [00:00, ?it/s]\n",
      "Finding Elimination Order: : : 0it [00:00, ?it/s]\n",
      "Finding Elimination Order: : : 0it [00:00, ?it/s]\n",
      "0it [00:00, ?it/s]\n",
      "Finding Elimination Order: : : 0it [00:00, ?it/s]\n",
      "Finding Elimination Order: : : 0it [00:00, ?it/s]\n",
      "0it [00:00, ?it/s]\n",
      "Finding Elimination Order: : : 0it [00:00, ?it/s]\n",
      "Finding Elimination Order: : : 0it [00:00, ?it/s]\n",
      "0it [00:00, ?it/s]\n",
      "Finding Elimination Order: : : 0it [00:00, ?it/s]\n",
      "0it [00:00, ?it/s]{'1362': 'semi light grey', '982': 'semi dark grey', '1030': 'dark grey', '1315': 'semi light grey', '1314': 'semi light grey', '1078': 'very dark grey', '1409': 'semi light grey', '1031': 'semi dark grey', '1410': 'semi light grey', '934': 'semi light grey'}\n",
      "{'1362': 'semi dark grey', '982': 'dark grey', '1030': 'very dark grey', '1315': 'semi dark grey', '1314': 'semi light grey', '1078': 'dark grey', '1409': 'dark grey', '1031': 'very dark grey', '1410': 'dark grey', '934': 'dark grey'}\n",
      "{'1362': 'semi dark grey', '982': 'very dark grey', '1030': 'very dark grey', '1315': 'semi dark grey', '1314': 'semi dark grey', '1078': 'very dark grey', '1409': 'dark grey', '1031': 'very dark grey', '1410': 'dark grey', '934': 'dark grey'}\n",
      "{'1362': 'semi dark grey', '982': 'very dark grey', '1030': 'very dark grey', '1315': 'semi dark grey', '1314': 'semi dark grey', '1078': 'dark grey', '1409': 'dark grey', '1031': 'very dark grey', '1410': 'semi dark grey', '934': 'semi dark grey'}\n",
      "Finding Elimination Order: : : 0it [00:00, ?it/s]\n",
      "0it [00:00, ?it/s]\n",
      "Finding Elimination Order: : : 0it [00:00, ?it/s]\n",
      "Finding Elimination Order: : : 0it [00:00, ?it/s]\n",
      "0it [00:00, ?it/s]\n",
      "Finding Elimination Order: : : 0it [00:00, ?it/s]\n",
      "Finding Elimination Order: : : 0it [00:00, ?it/s]\n",
      "0it [00:00, ?it/s]\n",
      "Finding Elimination Order: : : 0it [00:00, ?it/s]\n",
      "Finding Elimination Order: : : 0it [00:00, ?it/s]\n",
      "0it [00:00, ?it/s]\n",
      "Finding Elimination Order: : : 0it [00:00, ?it/s]\n",
      "{'1362': 'semi dark grey', '982': 'very dark grey', '1030': 'very dark grey', '1315': 'semi dark grey', '1314': 'semi dark grey', '1078': 'very dark grey', '1409': 'dark grey', '1031': 'very dark grey', '1410': 'dark grey', '934': 'dark grey'}\n",
      "{'1362': 'semi dark grey', '982': 'dark grey', '1030': 'very dark grey', '1315': 'dark grey', '1314': 'semi dark grey', '1078': 'very dark grey', '1409': 'semi dark grey', '1031': 'dark grey', '1410': 'semi dark grey', '934': 'semi dark grey'}\n",
      "{'1362': 'dark grey', '982': 'very dark grey', '1030': 'very dark grey', '1315': 'semi dark grey', '1314': 'semi dark grey', '1078': 'very dark grey', '1409': 'dark grey', '1031': 'very dark grey', '1410': 'dark grey', '934': 'very dark grey'}\n",
      "{'1362': 'dark grey', '982': 'very dark grey', '1030': 'very dark grey', '1315': 'semi dark grey', '1314': 'dark grey', '1078': 'very dark grey', '1409': 'black', '1031': 'very dark grey', '1410': 'very dark grey', '934': 'very dark grey'}\n",
      "Finding Elimination Order: : : 0it [00:00, ?it/s]\n",
      "0it [00:00, ?it/s]\n",
      "Finding Elimination Order: : : 0it [00:00, ?it/s]\n",
      "Finding Elimination Order: : : 0it [00:00, ?it/s]\n",
      "0it [00:00, ?it/s]\n",
      "Finding Elimination Order: : : 0it [00:00, ?it/s]\n",
      "Finding Elimination Order: : : 0it [00:00, ?it/s]\n",
      "0it [00:00, ?it/s]\n",
      "Finding Elimination Order: : : 0it [00:00, ?it/s]\n",
      "Finding Elimination Order: : : 0it [00:00, ?it/s]\n",
      "0it [00:00, ?it/s]\n",
      "Finding Elimination Order: : : 0it [00:00, ?it/s]\n",
      "0it [00:00, ?it/s]{'1362': 'semi dark grey', '982': 'very dark grey', '1030': 'dark grey', '1315': 'semi dark grey', '1314': 'semi dark grey', '1078': 'dark grey', '1409': 'dark grey', '1031': 'black', '1410': 'dark grey', '934': 'very dark grey'}\n",
      "{'1362': 'very dark grey', '982': 'very dark grey', '1030': 'very dark grey', '1315': 'semi dark grey', '1314': 'dark grey', '1078': 'very dark grey', '1409': 'very dark grey', '1031': 'very dark grey', '1410': 'very dark grey', '934': 'very dark grey'}\n",
      "{'1362': 'dark grey', '982': 'very dark grey', '1030': 'very dark grey', '1315': 'semi dark grey', '1314': 'semi dark grey', '1078': 'very dark grey', '1409': 'very dark grey', '1031': 'dark grey', '1410': 'very dark grey', '934': 'very dark grey'}\n",
      "{'1362': 'semi dark grey', '982': 'very dark grey', '1030': 'very dark grey', '1315': 'semi light grey', '1314': 'semi light grey', '1078': 'very dark grey', '1409': 'very dark grey', '1031': 'dark grey', '1410': 'dark grey', '934': 'very dark grey'}\n",
      "Finding Elimination Order: : : 0it [00:00, ?it/s]\n",
      "0it [00:00, ?it/s]\n",
      "Finding Elimination Order: : : 0it [00:00, ?it/s]\n",
      "Finding Elimination Order: : : 0it [00:00, ?it/s]\n",
      "0it [00:00, ?it/s]\n",
      "Finding Elimination Order: : : 0it [00:00, ?it/s]\n",
      "Finding Elimination Order: : : 0it [00:00, ?it/s]\n",
      "0it [00:00, ?it/s]\n",
      "Finding Elimination Order: : : 0it [00:00, ?it/s]\n",
      "Finding Elimination Order: : : 0it [00:00, ?it/s]\n",
      "0it [00:00, ?it/s]\n",
      "Finding Elimination Order: : : 0it [00:00, ?it/s]\n",
      "0it [00:00, ?it/s]{'1362': 'semi light grey', '982': 'very dark grey', '1030': 'very dark grey', '1315': 'semi light grey', '1314': 'semi light grey', '1078': 'very dark grey', '1409': 'semi dark grey', '1031': 'semi dark grey', '1410': 'semi dark grey', '934': 'dark grey'}\n",
      "{'1362': 'semi light grey', '982': 'dark grey', '1030': 'semi dark grey', '1315': 'semi light grey', '1314': 'semi light grey', '1078': 'semi dark grey', '1409': 'semi dark grey', '1031': 'very dark grey', '1410': 'semi dark grey', '934': 'very dark grey'}\n",
      "{'1362': 'semi dark grey', '982': 'very dark grey', '1030': 'very dark grey', '1315': 'semi light grey', '1314': 'semi light grey', '1078': 'very dark grey', '1409': 'very dark grey', '1031': 'very dark grey', '1410': 'dark grey', '934': 'very dark grey'}\n",
      "{'1362': 'semi light grey', '982': 'very dark grey', '1030': 'very dark grey', '1315': 'semi light grey', '1314': 'semi light grey', '1078': 'very dark grey', '1409': 'semi dark grey', '1031': 'very dark grey', '1410': 'semi dark grey', '934': 'very dark grey'}\n",
      "Finding Elimination Order: : : 0it [00:00, ?it/s]\n",
      "0it [00:00, ?it/s]\n",
      "Finding Elimination Order: : : 0it [00:00, ?it/s]\n",
      "Finding Elimination Order: : : 0it [00:00, ?it/s]\n",
      "0it [00:00, ?it/s]\n",
      "Finding Elimination Order: : : 0it [00:00, ?it/s]\n",
      "Finding Elimination Order: : : 0it [00:00, ?it/s]\n",
      "0it [00:00, ?it/s]\n",
      "Finding Elimination Order: : : 0it [00:00, ?it/s]\n",
      "Finding Elimination Order: : : 0it [00:00, ?it/s]\n",
      "0it [00:00, ?it/s]\n",
      "Finding Elimination Order: : : 0it [00:00, ?it/s]\n",
      "0it [00:00, ?it/s]{'1362': 'semi light grey', '982': 'very dark grey', '1030': 'very dark grey', '1315': 'semi light grey', '1314': 'semi light grey', '1078': 'dark grey', '1409': 'semi light grey', '1031': 'black', '1410': 'semi light grey', '934': 'dark grey'}\n",
      "{'1362': 'semi light grey', '982': 'semi dark grey', '1030': 'semi dark grey', '1315': 'semi light grey', '1314': 'semi light grey', '1078': 'semi light grey', '1409': 'semi light grey', '1031': 'very dark grey', '1410': 'semi dark grey', '934': 'very dark grey'}\n",
      "{'1362': 'semi light grey', '982': 'dark grey', '1030': 'dark grey', '1315': 'semi light grey', '1314': 'semi light grey', '1078': 'very dark grey', '1409': 'very dark grey', '1031': 'very dark grey', '1410': 'very dark grey', '934': 'very dark grey'}\n",
      "{'1362': 'light grey', '982': 'dark grey', '1030': 'dark grey', '1315': 'light grey', '1314': 'light grey', '1078': 'semi dark grey', '1409': 'semi dark grey', '1031': 'semi light grey', '1410': 'semi light grey', '934': 'dark grey'}\n",
      "Finding Elimination Order: : : 0it [00:00, ?it/s]\n",
      "0it [00:00, ?it/s]\n",
      "Finding Elimination Order: : : 0it [00:00, ?it/s]\n",
      "Finding Elimination Order: : : 0it [00:00, ?it/s]\n",
      "0it [00:00, ?it/s]\n",
      "Finding Elimination Order: : : 0it [00:00, ?it/s]\n",
      "Finding Elimination Order: : : 0it [00:00, ?it/s]\n",
      "0it [00:00, ?it/s]\n",
      "Finding Elimination Order: : : 0it [00:00, ?it/s]\n",
      "Finding Elimination Order: : : 0it [00:00, ?it/s]\n",
      "0it [00:00, ?it/s]\n",
      "Finding Elimination Order: : : 0it [00:00, ?it/s]{'1362': 'light grey', '982': 'black', '1030': 'black', '1315': 'light grey', '1314': 'light grey', '1078': 'black', '1409': 'semi dark grey', '1031': 'dark grey', '1410': 'semi light grey', '934': 'very dark grey'}\n",
      "{'1362': 'light grey', '982': 'very dark grey', '1030': 'very dark grey', '1315': 'semi light grey', '1314': 'semi light grey', '1078': 'very dark grey', '1409': 'light grey', '1031': 'semi dark grey', '1410': 'light grey', '934': 'semi dark grey'}\n",
      "{'1362': 'white', '982': 'semi light grey', '1030': 'semi light grey', '1315': 'white', '1314': 'white', '1078': 'semi light grey', '1409': 'white', '1031': 'very light grey', '1410': 'white', '934': 'very light grey'}\n",
      "{'1362': 'white', '982': 'very light grey', '1030': 'very light grey', '1315': 'white', '1314': 'white', '1078': 'very light grey', '1409': 'white', '1031': 'white', '1410': 'white', '934': 'white'}\n",
      "\n",
      "Finding Elimination Order: : : 0it [00:00, ?it/s]\n",
      "0it [00:00, ?it/s]\n",
      "Finding Elimination Order: : : 0it [00:00, ?it/s]\n",
      "Finding Elimination Order: : : 0it [00:00, ?it/s]\n",
      "0it [00:00, ?it/s]\n",
      "Finding Elimination Order: : : 0it [00:00, ?it/s]\n",
      "Finding Elimination Order: : : 0it [00:00, ?it/s]\n",
      "0it [00:00, ?it/s]\n",
      "Finding Elimination Order: : : 0it [00:00, ?it/s]\n",
      "Finding Elimination Order: : : 0it [00:00, ?it/s]\n",
      "0it [00:00, ?it/s]\n",
      "Finding Elimination Order: : : 0it [00:00, ?it/s]\n",
      "0it [00:00, ?it/s]{'1362': 'white', '982': 'semi light grey', '1030': 'semi light grey', '1315': 'white', '1314': 'white', '1078': 'semi light grey', '1409': 'very light grey', '1031': 'very light grey', '1410': 'white', '934': 'very light grey'}\n",
      "{'1362': 'white', '982': 'very light grey', '1030': 'very light grey', '1315': 'white', '1314': 'white', '1078': 'very light grey', '1409': 'white', '1031': 'white', '1410': 'white', '934': 'very light grey'}\n",
      "{'1362': 'white', '982': 'light grey', '1030': 'very light grey', '1315': 'white', '1314': 'white', '1078': 'light grey', '1409': 'very light grey', '1031': 'white', '1410': 'white', '934': 'light grey'}\n",
      "{'1362': 'white', '982': 'semi light grey', '1030': 'light grey', '1315': 'white', '1314': 'white', '1078': 'semi light grey', '1409': 'very light grey', '1031': 'white', '1410': 'white', '934': 'light grey'}\n",
      "Finding Elimination Order: : : 0it [00:00, ?it/s]\n",
      "0it [00:00, ?it/s]\n",
      "Finding Elimination Order: : : 0it [00:00, ?it/s]\n",
      "Finding Elimination Order: : : 0it [00:00, ?it/s]\n",
      "0it [00:00, ?it/s]\n",
      "Finding Elimination Order: : : 0it [00:00, ?it/s]\n",
      "Finding Elimination Order: : : 0it [00:00, ?it/s]\n",
      "0it [00:00, ?it/s]\n",
      "Finding Elimination Order: : : 0it [00:00, ?it/s]\n",
      "Finding Elimination Order: : : 0it [00:00, ?it/s]\n",
      "0it [00:00, ?it/s]\n",
      "Finding Elimination Order: : : 0it [00:00, ?it/s]\n",
      "Finding Elimination Order: : : 0it [00:00, ?it/s]\n",
      "0it [00:00, ?it/s]\n",
      "{'1362': 'very light grey', '982': 'light grey', '1030': 'very light grey', '1315': 'white', '1314': 'white', '1078': 'semi dark grey', '1409': 'light grey', '1031': 'very light grey', '1410': 'semi light grey', '934': 'white'}\n",
      "{'1362': 'white', '982': 'light grey', '1030': 'light grey', '1315': 'white', '1314': 'white', '1078': 'semi light grey', '1409': 'semi light grey', '1031': 'white', '1410': 'very light grey', '934': 'semi dark grey'}\n",
      "{'1362': 'white', '982': 'semi light grey', '1030': 'semi dark grey', '1315': 'white', '1314': 'white', '1078': 'semi light grey', '1409': 'white', '1031': 'white', '1410': 'white', '934': 'light grey'}\n",
      "{'1362': 'white', '982': 'very light grey', '1030': 'light grey', '1315': 'white', '1314': 'white', '1078': 'very light grey', '1409': 'white', '1031': 'white', '1410': 'white', '934': 'white'}\n",
      "{'1362': 'white', '982': 'light grey', '1030': 'semi dark grey', '1315': 'white', '1314': 'white', '1078': 'semi light grey', '1409': 'white', '1031': 'white', '1410': 'white', '934': 'light grey'}\n",
      "Finding Elimination Order: : : 0it [00:00, ?it/s]\n",
      "Finding Elimination Order: : : 0it [00:00, ?it/s]\n",
      "0it [00:00, ?it/s]\n",
      "Finding Elimination Order: : : 0it [00:00, ?it/s]\n",
      "Finding Elimination Order: : : 0it [00:00, ?it/s]\n",
      "0it [00:00, ?it/s]\n",
      "Finding Elimination Order: : : 0it [00:00, ?it/s]\n",
      "Finding Elimination Order: : : 0it [00:00, ?it/s]\n",
      "0it [00:00, ?it/s]\n",
      "Finding Elimination Order: : : 0it [00:00, ?it/s]\n",
      "Finding Elimination Order: : : 0it [00:00, ?it/s]\n",
      "0it [00:00, ?it/s]\n",
      "Finding Elimination Order: : : 0it [00:00, ?it/s]\n",
      "Finding Elimination Order: : : 0it [00:00, ?it/s]\n",
      "0it [00:00, ?it/s]\n",
      "Finding Elimination Order: : : 0it [00:00, ?it/s]{'1362': 'white', '982': 'very light grey', '1030': 'light grey', '1315': 'white', '1314': 'white', '1078': 'very light grey', '1409': 'white', '1031': 'white', '1410': 'white', '934': 'white'}\n",
      "{'1362': 'white', '982': 'light grey', '1030': 'semi light grey', '1315': 'white', '1314': 'white', '1078': 'light grey', '1409': 'white', '1031': 'white', '1410': 'white', '934': 'very light grey'}\n",
      "{'1362': 'white', '982': 'light grey', '1030': 'light grey', '1315': 'white', '1314': 'white', '1078': 'very light grey', '1409': 'white', '1031': 'white', '1410': 'white', '934': 'white'}\n",
      "{'1362': 'white', '982': 'semi dark grey', '1030': 'semi light grey', '1315': 'white', '1314': 'white', '1078': 'semi dark grey', '1409': 'white', '1031': 'very light grey', '1410': 'white', '934': 'semi light grey'}\n",
      "{'1362': 'white', '982': 'very light grey', '1030': 'light grey', '1315': 'white', '1314': 'white', '1078': 'light grey', '1409': 'white', '1031': 'white', '1410': 'white', '934': 'white'}\n",
      "\n",
      "Finding Elimination Order: : : 0it [00:00, ?it/s]\n",
      "0it [00:00, ?it/s]\n",
      "Finding Elimination Order: : : 0it [00:00, ?it/s]\n",
      "Finding Elimination Order: : : 0it [00:00, ?it/s]\n",
      "0it [00:00, ?it/s]\n",
      "Finding Elimination Order: : : 0it [00:00, ?it/s]\n",
      "Finding Elimination Order: : : 0it [00:00, ?it/s]\n",
      "0it [00:00, ?it/s]\n",
      "Finding Elimination Order: : : 0it [00:00, ?it/s]\n",
      "Finding Elimination Order: : : 0it [00:00, ?it/s]\n",
      "0it [00:00, ?it/s]\n",
      "Finding Elimination Order: : : 0it [00:00, ?it/s]\n",
      "Finding Elimination Order: : : 0it [00:00, ?it/s]\n",
      "0it [00:00, ?it/s]\n",
      "{'1362': 'white', '982': 'light grey', '1030': 'semi light grey', '1315': 'white', '1314': 'white', '1078': 'light grey', '1409': 'white', '1031': 'white', '1410': 'white', '934': 'very light grey'}\n",
      "{'1362': 'white', '982': 'semi dark grey', '1030': 'semi dark grey', '1315': 'white', '1314': 'white', '1078': 'semi dark grey', '1409': 'very light grey', '1031': 'white', '1410': 'white', '934': 'semi light grey'}\n",
      "{'1362': 'white', '982': 'very light grey', '1030': 'light grey', '1315': 'white', '1314': 'white', '1078': 'very light grey', '1409': 'white', '1031': 'white', '1410': 'white', '934': 'very light grey'}\n",
      "{'1362': 'white', '982': 'white', '1030': 'white', '1315': 'white', '1314': 'white', '1078': 'white', '1409': 'white', '1031': 'white', '1410': 'white', '934': 'white'}\n",
      "Finding Elimination Order: : : 0it [00:00, ?it/s]\n",
      "Finding Elimination Order: : : 0it [00:00, ?it/s]\n",
      "0it [00:00, ?it/s]\n",
      "Finding Elimination Order: : : 0it [00:00, ?it/s]\n",
      "Finding Elimination Order: : : 0it [00:00, ?it/s]\n",
      "0it [00:00, ?it/s]\n",
      "Finding Elimination Order: : : 0it [00:00, ?it/s]\n",
      "Finding Elimination Order: : : 0it [00:00, ?it/s]\n",
      "0it [00:00, ?it/s]\n",
      "Finding Elimination Order: : : 0it [00:00, ?it/s]\n",
      "Finding Elimination Order: : : 0it [00:00, ?it/s]\n",
      "0it [00:00, ?it/s]\n",
      "\n",
      "{'1362': 'white', '982': 'white', '1030': 'white', '1315': 'white', '1314': 'white', '1078': 'white', '1409': 'white', '1031': 'white', '1410': 'white', '934': 'white'}\n",
      "{'1362': 'white', '982': 'white', '1030': 'white', '1315': 'white', '1314': 'white', '1078': 'white', '1409': 'white', '1031': 'white', '1410': 'white', '934': 'white'}\n",
      "{'1362': 'white', '982': 'white', '1030': 'white', '1315': 'white', '1314': 'white', '1078': 'white', '1409': 'white', '1031': 'white', '1410': 'white', '934': 'white'}\n",
      "{'1362': 'white', '982': 'white', '1030': 'white', '1315': 'white', '1314': 'white', '1078': 'white', '1409': 'white', '1031': 'white', '1410': 'white', '934': 'white'}\n",
      "Finding Elimination Order: : : 0it [00:00, ?it/s]\n",
      "Finding Elimination Order: : : 0it [00:00, ?it/s]\n",
      "0it [00:00, ?it/s]\n",
      "Finding Elimination Order: : : 0it [00:00, ?it/s]\n",
      "Finding Elimination Order: : : 0it [00:00, ?it/s]\n",
      "0it [00:00, ?it/s]\n",
      "Finding Elimination Order: : : 0it [00:00, ?it/s]\n",
      "Finding Elimination Order: : : 0it [00:00, ?it/s]\n",
      "0it [00:00, ?it/s]\n",
      "Finding Elimination Order: : : 0it [00:00, ?it/s]\n",
      "Finding Elimination Order: : : 0it [00:00, ?it/s]\n",
      "0it [00:00, ?it/s]\n",
      "Finding Elimination Order: : : 0it [00:00, ?it/s]\n",
      "{'1362': 'white', '982': 'white', '1030': 'white', '1315': 'white', '1314': 'white', '1078': 'white', '1409': 'white', '1031': 'white', '1410': 'white', '934': 'white'}\n",
      "{'1362': 'white', '982': 'white', '1030': 'white', '1315': 'white', '1314': 'white', '1078': 'white', '1409': 'white', '1031': 'white', '1410': 'white', '934': 'white'}\n",
      "{'1362': 'white', '982': 'white', '1030': 'white', '1315': 'white', '1314': 'white', '1078': 'white', '1409': 'white', '1031': 'white', '1410': 'white', '934': 'white'}\n",
      "{'1362': 'white', '982': 'white', '1030': 'white', '1315': 'white', '1314': 'white', '1078': 'white', '1409': 'white', '1031': 'white', '1410': 'white', '934': 'white'}\n",
      "Finding Elimination Order: : : 0it [00:00, ?it/s]\n",
      "0it [00:00, ?it/s]\n",
      "Finding Elimination Order: : : 0it [00:00, ?it/s]\n",
      "Finding Elimination Order: : : 0it [00:00, ?it/s]\n",
      "0it [00:00, ?it/s]\n",
      "Finding Elimination Order: : : 0it [00:00, ?it/s]\n",
      "Finding Elimination Order: : : 0it [00:00, ?it/s]\n",
      "0it [00:00, ?it/s]\n",
      "Finding Elimination Order: : : 0it [00:00, ?it/s]\n",
      "Finding Elimination Order: : : 0it [00:00, ?it/s]\n",
      "0it [00:00, ?it/s]\n",
      "Finding Elimination Order: : : 0it [00:00, ?it/s]\n",
      "0it [00:00, ?it/s]{'1362': 'white', '982': 'white', '1030': 'white', '1315': 'white', '1314': 'white', '1078': 'white', '1409': 'white', '1031': 'white', '1410': 'white', '934': 'white'}\n",
      "{'1362': 'white', '982': 'white', '1030': 'very light grey', '1315': 'white', '1314': 'white', '1078': 'very light grey', '1409': 'white', '1031': 'white', '1410': 'white', '934': 'white'}\n",
      "{'1362': 'white', '982': 'white', '1030': 'very light grey', '1315': 'white', '1314': 'white', '1078': 'white', '1409': 'white', '1031': 'white', '1410': 'white', '934': 'white'}\n",
      "{'1362': 'white', '982': 'white', '1030': 'light grey', '1315': 'white', '1314': 'white', '1078': 'very light grey', '1409': 'white', '1031': 'white', '1410': 'white', '934': 'white'}\n",
      "Finding Elimination Order: : : 0it [00:00, ?it/s]\n",
      "0it [00:00, ?it/s]\n"
     ]
    },
    {
     "output_type": "execute_result",
     "data": {
      "text/plain": [
       "0.49645390070921985"
      ]
     },
     "metadata": {},
     "execution_count": 79
    }
   ],
   "source": [
    "score = score_model(ten_pix_infer, ten_pixels_no_y.iloc[:423], y.iloc[:423])\n",
    "score"
   ]
  },
  {
   "cell_type": "code",
   "execution_count": 76,
   "metadata": {},
   "outputs": [
    {
     "output_type": "execute_result",
     "data": {
      "text/plain": [
       "(9690, 10)"
      ]
     },
     "metadata": {},
     "execution_count": 76
    }
   ],
   "source": [
    "ten_pixels_no_y.shape"
   ]
  },
  {
   "cell_type": "code",
   "execution_count": 73,
   "metadata": {},
   "outputs": [
    {
     "output_type": "execute_result",
     "data": {
      "text/plain": [
       "0"
      ]
     },
     "metadata": {},
     "execution_count": 73
    }
   ],
   "source": [
    "y.iloc[10].values[0]"
   ]
  },
  {
   "source": [
    "# To go in submission notebook"
   ],
   "cell_type": "markdown",
   "metadata": {}
  },
  {
   "cell_type": "code",
   "execution_count": 1,
   "metadata": {},
   "outputs": [],
   "source": [
    "from Scripts import helperfn as hf\n",
    "from Scripts import pixelFinder as pf \n",
    "from Scripts.NaiveBayse import NaiveBayseGaussian as nbg\n",
    "from Scripts import bayseNet as bn\n",
    "from sklearn.model_selection import train_test_split\n",
    "%load_ext autoreload\n",
    "%autoreload 2\n",
    "\n",
    "import math\n",
    "import numpy as np\n",
    "import pandas as pd\n",
    "from pgmpy.estimators import BayesianEstimator, HillClimbSearch, ExhaustiveSearch, K2Score, MaximumLikelihoodEstimator, BicScore, BDeuScore\n",
    "\n"
   ]
  },
  {
   "source": [
    "## Preprocess data\n",
    "### Get equal width binned data and labels"
   ],
   "cell_type": "markdown",
   "metadata": {}
  },
  {
   "cell_type": "code",
   "execution_count": 2,
   "metadata": {},
   "outputs": [],
   "source": [
    "X, y = hf.get_ewb_data(4)"
   ]
  },
  {
   "source": [
    "#### Select most predicitve pixels"
   ],
   "cell_type": "markdown",
   "metadata": {}
  },
  {
   "cell_type": "code",
   "execution_count": 4,
   "metadata": {},
   "outputs": [
    {
     "output_type": "execute_result",
     "data": {
      "text/plain": [
       "(9690, 15)"
      ]
     },
     "metadata": {},
     "execution_count": 4
    }
   ],
   "source": [
    "pixels = pf.get_top_pixels(15)\n",
    "# pixels is list of best pixels for all datasets: pixels[0] is all classes | pixels[1] is speed limit 20...\n",
    "x_pixels = np.take(X, pixels[5], axis=1)\n",
    "x_pixels.shape"
   ]
  },
  {
   "source": [
    "#### Select a balanced class distrubution from the data and append labels to data"
   ],
   "cell_type": "markdown",
   "metadata": {}
  },
  {
   "cell_type": "code",
   "execution_count": 5,
   "metadata": {},
   "outputs": [],
   "source": [
    "y.columns = ['y']\n",
    "x_bal_pixels, y_pixels = hf.balance_by_class(x_pixels, y)\n",
    "X_train, x_test, y_train, y_test = train_test_split(x_bal_pixels, y_pixels, random_state=0, test_size=0.2)\n",
    "X_pixels = X_train.join(y_train)"
   ]
  },
  {
   "source": [
    "## Build model\n",
    "#### Learn edges with K2 parents = 4, HillClimbing algorithm"
   ],
   "cell_type": "markdown",
   "metadata": {}
  },
  {
   "cell_type": "code",
   "execution_count": 6,
   "metadata": {},
   "outputs": [
    {
     "output_type": "stream",
     "name": "stdout",
     "text": [
      "---- Beginning edge estimator ----\n",
      "WARNING: this might be very slow\n",
      "---- Done ----\n"
     ]
    }
   ],
   "source": [
    "hillClimb = bn.estimate_model_edges(X_pixels)"
   ]
  },
  {
   "source": [
    "#### Learn model parameters using BDeu as the estimator"
   ],
   "cell_type": "markdown",
   "metadata": {}
  },
  {
   "cell_type": "code",
   "execution_count": 7,
   "metadata": {},
   "outputs": [
    {
     "output_type": "execute_result",
     "data": {
      "text/plain": [
       "OutEdgeView([('983', '935'), ('983', '982'), ('983', 'y'), ('1031', '983'), ('1031', 'y'), ('1030', '982'), ('1030', '1031'), ('982', 'y'), ('935', 'y'), ('2139', '2138'), ('2138', '2186'), ('2138', '1030'), ('2140', '2139'), ('2095', '2094'), ('2096', '2095'), ('2096', '2141'), ('2141', '2140'), ('2050', '2097'), ('2094', '2141'), ('2097', '2096')])"
      ]
     },
     "metadata": {},
     "execution_count": 7
    }
   ],
   "source": [
    "hillClimb.edges"
   ]
  },
  {
   "cell_type": "code",
   "execution_count": 13,
   "metadata": {},
   "outputs": [
    {
     "output_type": "stream",
     "name": "stdout",
     "text": [
      "['983', '935', '982', 'y', '1031', '1030', '2139', '2138', '2186', '2140', '2095', '2094', '2096', '2141', '2050', '2097']\n"
     ]
    }
   ],
   "source": [
    "model = bn.model_with_params(X_pixels, hillClimb, estimator=BayesianEstimator, prior_type=\"K2\")"
   ]
  },
  {
   "cell_type": "code",
   "execution_count": 14,
   "metadata": {},
   "outputs": [
    {
     "output_type": "execute_result",
     "data": {
      "text/plain": [
       "pgmpy.models.BayesianModel.BayesianModel"
      ]
     },
     "metadata": {},
     "execution_count": 14
    }
   ],
   "source": [
    "type(model)"
   ]
  },
  {
   "cell_type": "code",
   "execution_count": 15,
   "metadata": {},
   "outputs": [],
   "source": [
    "infer = bn.get_inference_model(model)"
   ]
  },
  {
   "source": [
    "## Score the model"
   ],
   "cell_type": "markdown",
   "metadata": {}
  },
  {
   "cell_type": "code",
   "execution_count": 16,
   "metadata": {
    "tags": [
     "outputPrepend"
    ]
   },
   "outputs": [
    {
     "output_type": "stream",
     "name": "stdout",
     "text": [
      ": 0it [00:00, ?it/s]\n",
      "0it [00:00, ?it/s]\n",
      "Finding Elimination Order: : : 0it [00:00, ?it/s]\n",
      "0it [00:00, ?it/s]looping\n",
      "Finding Elimination Order: : : 0it [00:00, ?it/s]\n",
      "0it [00:00, ?it/s]\n",
      "Finding Elimination Order: : : 0it [00:00, ?it/s]\n",
      "looping\n",
      "Finding Elimination Order: : : 0it [00:00, ?it/s]\n",
      "0it [00:00, ?it/s]\n",
      "Finding Elimination Order: : : 0it [00:00, ?it/s]\n",
      "0it [00:00, ?it/s]looping\n",
      "Finding Elimination Order: : : 0it [00:00, ?it/s]\n",
      "0it [00:00, ?it/s]\n",
      "Finding Elimination Order: : : 0it [00:00, ?it/s]\n",
      "looping\n",
      "Finding Elimination Order: : : 0it [00:00, ?it/s]\n",
      "0it [00:00, ?it/s]\n",
      "Finding Elimination Order: : : 0it [00:00, ?it/s]\n",
      "0it [00:00, ?it/s]looping\n",
      "Finding Elimination Order: : : 0it [00:00, ?it/s]\n",
      "0it [00:00, ?it/s]\n",
      "Finding Elimination Order: : : 0it [00:00, ?it/s]\n",
      "looping\n",
      "Finding Elimination Order: : : 0it [00:00, ?it/s]\n",
      "0it [00:00, ?it/s]\n",
      "Finding Elimination Order: : : 0it [00:00, ?it/s]\n",
      "looping\n",
      "Finding Elimination Order: : : 0it [00:00, ?it/s]\n",
      "0it [00:00, ?it/s]\n",
      "Finding Elimination Order: : : 0it [00:00, ?it/s]\n",
      "looping\n",
      "Finding Elimination Order: : : 0it [00:00, ?it/s]\n",
      "0it [00:00, ?it/s]\n",
      "Finding Elimination Order: : : 0it [00:00, ?it/s]\n",
      "looping\n",
      "Finding Elimination Order: : : 0it [00:00, ?it/s]\n",
      "0it [00:00, ?it/s]\n",
      "Finding Elimination Order: : : 0it [00:00, ?it/s]\n",
      "0it [00:00, ?it/s]looping\n",
      "Finding Elimination Order: : : 0it [00:00, ?it/s]\n",
      "0it [00:00, ?it/s]\n",
      "Finding Elimination Order: : : 0it [00:00, ?it/s]\n",
      "0it [00:00, ?it/s]looping\n",
      "Finding Elimination Order: : : 0it [00:00, ?it/s]\n",
      "0it [00:00, ?it/s]\n",
      "Finding Elimination Order: : : 0it [00:00, ?it/s]\n",
      "looping\n",
      "Finding Elimination Order: : : 0it [00:00, ?it/s]\n",
      "0it [00:00, ?it/s]\n",
      "Finding Elimination Order: : : 0it [00:00, ?it/s]\n",
      "0it [00:00, ?it/s]looping\n",
      "Finding Elimination Order: : : 0it [00:00, ?it/s]\n",
      "0it [00:00, ?it/s]\n",
      "Finding Elimination Order: : : 0it [00:00, ?it/s]\n",
      "looping\n",
      "Finding Elimination Order: : : 0it [00:00, ?it/s]\n",
      "0it [00:00, ?it/s]\n",
      "Finding Elimination Order: : : 0it [00:00, ?it/s]\n",
      "0it [00:00, ?it/s]looping\n",
      "Finding Elimination Order: : : 0it [00:00, ?it/s]\n",
      "0it [00:00, ?it/s]\n",
      "Finding Elimination Order: : : 0it [00:00, ?it/s]\n",
      "0it [00:00, ?it/s]looping\n",
      "Finding Elimination Order: : : 0it [00:00, ?it/s]\n",
      "0it [00:00, ?it/s]\n",
      "Finding Elimination Order: : : 0it [00:00, ?it/s]\n",
      "looping\n",
      "Finding Elimination Order: : : 0it [00:00, ?it/s]\n",
      "0it [00:00, ?it/s]\n",
      "Finding Elimination Order: : : 0it [00:00, ?it/s]\n",
      "0it [00:00, ?it/s]looping\n",
      "Finding Elimination Order: : : 0it [00:00, ?it/s]\n",
      "0it [00:00, ?it/s]\n",
      "Finding Elimination Order: : : 0it [00:00, ?it/s]\n",
      "looping\n",
      "Finding Elimination Order: : : 0it [00:00, ?it/s]\n",
      "0it [00:00, ?it/s]\n",
      "Finding Elimination Order: : : 0it [00:00, ?it/s]\n",
      "0it [00:00, ?it/s]looping\n",
      "Finding Elimination Order: : : 0it [00:00, ?it/s]\n",
      "0it [00:00, ?it/s]\n",
      "Finding Elimination Order: : : 0it [00:00, ?it/s]\n",
      "looping\n",
      "Finding Elimination Order: : : 0it [00:00, ?it/s]\n",
      "0it [00:00, ?it/s]\n",
      "Finding Elimination Order: : : 0it [00:00, ?it/s]\n",
      "looping\n",
      "Finding Elimination Order: : : 0it [00:00, ?it/s]\n",
      "0it [00:00, ?it/s]\n",
      "Finding Elimination Order: : : 0it [00:00, ?it/s]\n",
      "0it [00:00, ?it/s]looping\n",
      "Finding Elimination Order: : : 0it [00:00, ?it/s]\n",
      "0it [00:00, ?it/s]\n",
      "Finding Elimination Order: : : 0it [00:00, ?it/s]\n",
      "looping\n",
      "Finding Elimination Order: : : 0it [00:00, ?it/s]\n",
      "0it [00:00, ?it/s]\n",
      "Finding Elimination Order: : : 0it [00:00, ?it/s]\n",
      "0it [00:00, ?it/s]looping\n",
      "Finding Elimination Order: : : 0it [00:00, ?it/s]\n",
      "0it [00:00, ?it/s]\n",
      "Finding Elimination Order: : : 0it [00:00, ?it/s]\n",
      "looping\n",
      "Finding Elimination Order: : : 0it [00:00, ?it/s]\n",
      "0it [00:00, ?it/s]\n",
      "Finding Elimination Order: : : 0it [00:00, ?it/s]\n",
      "looping\n",
      "Finding Elimination Order: : : 0it [00:00, ?it/s]\n",
      "0it [00:00, ?it/s]\n",
      "Finding Elimination Order: : : 0it [00:00, ?it/s]\n",
      "0it [00:00, ?it/s]looping\n",
      "Finding Elimination Order: : : 0it [00:00, ?it/s]\n",
      "0it [00:00, ?it/s]\n",
      "Finding Elimination Order: : : 0it [00:00, ?it/s]\n",
      "looping\n",
      "Finding Elimination Order: : : 0it [00:00, ?it/s]\n",
      "0it [00:00, ?it/s]\n",
      "Finding Elimination Order: : : 0it [00:00, ?it/s]\n",
      "0it [00:00, ?it/s]looping\n",
      "Finding Elimination Order: : : 0it [00:00, ?it/s]\n",
      "0it [00:00, ?it/s]\n",
      "Finding Elimination Order: : : 0it [00:00, ?it/s]\n",
      "looping\n",
      "Finding Elimination Order: : : 0it [00:00, ?it/s]\n",
      "0it [00:00, ?it/s]\n",
      "Finding Elimination Order: : : 0it [00:00, ?it/s]\n",
      "looping\n",
      "Finding Elimination Order: : : 0it [00:00, ?it/s]\n",
      "0it [00:00, ?it/s]\n",
      "Finding Elimination Order: : : 0it [00:00, ?it/s]\n",
      "looping\n",
      "Finding Elimination Order: : : 0it [00:00, ?it/s]\n",
      "0it [00:00, ?it/s]\n",
      "Finding Elimination Order: : : 0it [00:00, ?it/s]\n",
      "looping\n",
      "Finding Elimination Order: : : 0it [00:00, ?it/s]\n",
      "0it [00:00, ?it/s]\n",
      "Finding Elimination Order: : : 0it [00:00, ?it/s]\n",
      "looping\n",
      "Finding Elimination Order: : : 0it [00:00, ?it/s]\n",
      "0it [00:00, ?it/s]\n",
      "Finding Elimination Order: : : 0it [00:00, ?it/s]\n",
      "looping\n",
      "Finding Elimination Order: : : 0it [00:00, ?it/s]\n",
      "0it [00:00, ?it/s]\n",
      "Finding Elimination Order: : : 0it [00:00, ?it/s]\n",
      "looping\n",
      "Finding Elimination Order: : : 0it [00:00, ?it/s]\n",
      "0it [00:00, ?it/s]\n",
      "Finding Elimination Order: : : 0it [00:00, ?it/s]\n",
      "0it [00:00, ?it/s]looping\n",
      "Finding Elimination Order: : : 0it [00:00, ?it/s]\n",
      "0it [00:00, ?it/s]\n",
      "Finding Elimination Order: : : 0it [00:00, ?it/s]\n",
      "looping\n",
      "Finding Elimination Order: : : 0it [00:00, ?it/s]\n",
      "0it [00:00, ?it/s]\n",
      "Finding Elimination Order: : : 0it [00:00, ?it/s]\n",
      "0it [00:00, ?it/s]looping\n",
      "Finding Elimination Order: : : 0it [00:00, ?it/s]\n",
      "0it [00:00, ?it/s]\n",
      "Finding Elimination Order: : : 0it [00:00, ?it/s]\n",
      "looping\n",
      "Finding Elimination Order: : : 0it [00:00, ?it/s]\n",
      "0it [00:00, ?it/s]\n",
      "Finding Elimination Order: : : 0it [00:00, ?it/s]\n",
      "0it [00:00, ?it/s]looping\n",
      "Finding Elimination Order: : : 0it [00:00, ?it/s]\n",
      "0it [00:00, ?it/s]\n",
      "Finding Elimination Order: : : 0it [00:00, ?it/s]\n",
      "looping\n",
      "Finding Elimination Order: : : 0it [00:00, ?it/s]\n",
      "0it [00:00, ?it/s]\n",
      "Finding Elimination Order: : : 0it [00:00, ?it/s]\n",
      "looping\n",
      "Finding Elimination Order: : : 0it [00:00, ?it/s]\n",
      "0it [00:00, ?it/s]\n",
      "Finding Elimination Order: : : 0it [00:00, ?it/s]\n",
      "0it [00:00, ?it/s]looping\n",
      "Finding Elimination Order: : : 0it [00:00, ?it/s]\n",
      "0it [00:00, ?it/s]\n",
      "Finding Elimination Order: : : 0it [00:00, ?it/s]\n",
      "looping\n",
      "Finding Elimination Order: : : 0it [00:00, ?it/s]\n",
      "0it [00:00, ?it/s]\n",
      "Finding Elimination Order: : : 0it [00:00, ?it/s]\n",
      "looping\n",
      "Finding Elimination Order: : : 0it [00:00, ?it/s]\n",
      "0it [00:00, ?it/s]\n",
      "Finding Elimination Order: : : 0it [00:00, ?it/s]\n",
      "looping\n",
      "Finding Elimination Order: : : 0it [00:00, ?it/s]\n",
      "0it [00:00, ?it/s]\n",
      "Finding Elimination Order: : : 0it [00:00, ?it/s]\n",
      "looping\n",
      "Finding Elimination Order: : : 0it [00:00, ?it/s]\n",
      "0it [00:00, ?it/s]\n",
      "Finding Elimination Order: : : 0it [00:00, ?it/s]\n",
      "0it [00:00, ?it/s]looping\n",
      "Finding Elimination Order: : : 0it [00:00, ?it/s]\n",
      "0it [00:00, ?it/s]\n",
      "Finding Elimination Order: : : 0it [00:00, ?it/s]\n",
      "looping\n",
      "Finding Elimination Order: : : 0it [00:00, ?it/s]\n",
      "0it [00:00, ?it/s]\n",
      "Finding Elimination Order: : : 0it [00:00, ?it/s]\n",
      "0it [00:00, ?it/s]looping\n",
      "Finding Elimination Order: : : 0it [00:00, ?it/s]\n",
      "0it [00:00, ?it/s]\n",
      "Finding Elimination Order: : : 0it [00:00, ?it/s]\n",
      "looping\n",
      "Finding Elimination Order: : : 0it [00:00, ?it/s]\n",
      "0it [00:00, ?it/s]\n",
      "Finding Elimination Order: : : 0it [00:00, ?it/s]\n",
      "0it [00:00, ?it/s]looping\n",
      "Finding Elimination Order: : : 0it [00:00, ?it/s]\n",
      "0it [00:00, ?it/s]\n",
      "Finding Elimination Order: : : 0it [00:00, ?it/s]\n",
      "0it [00:00, ?it/s]looping\n",
      "Finding Elimination Order: : : 0it [00:00, ?it/s]\n",
      "0it [00:00, ?it/s]\n",
      "Finding Elimination Order: : : 0it [00:00, ?it/s]\n",
      "looping\n",
      "Finding Elimination Order: : : 0it [00:00, ?it/s]\n",
      "0it [00:00, ?it/s]\n",
      "Finding Elimination Order: : : 0it [00:00, ?it/s]\n",
      "0it [00:00, ?it/s]looping\n",
      "Finding Elimination Order: : : 0it [00:00, ?it/s]\n",
      "0it [00:00, ?it/s]\n",
      "Finding Elimination Order: : : 0it [00:00, ?it/s]\n",
      "0it [00:00, ?it/s]looping\n",
      "Finding Elimination Order: : : 0it [00:00, ?it/s]\n",
      "0it [00:00, ?it/s]\n",
      "Finding Elimination Order: : : 0it [00:00, ?it/s]\n",
      "0it [00:00, ?it/s]looping\n",
      "Finding Elimination Order: : : 0it [00:00, ?it/s]\n",
      "0it [00:00, ?it/s]\n",
      "Finding Elimination Order: : : 0it [00:00, ?it/s]\n",
      "looping\n",
      "Finding Elimination Order: : : 0it [00:00, ?it/s]\n",
      "0it [00:00, ?it/s]\n",
      "Finding Elimination Order: : : 0it [00:00, ?it/s]\n",
      "looping\n",
      "Finding Elimination Order: : : 0it [00:00, ?it/s]\n",
      "0it [00:00, ?it/s]\n",
      "Finding Elimination Order: : : 0it [00:00, ?it/s]\n",
      "looping\n",
      "Finding Elimination Order: : : 0it [00:00, ?it/s]\n",
      "0it [00:00, ?it/s]\n",
      "Finding Elimination Order: : : 0it [00:00, ?it/s]\n",
      "0it [00:00, ?it/s]looping\n",
      "Finding Elimination Order: : : 0it [00:00, ?it/s]\n",
      "0it [00:00, ?it/s]\n",
      "Finding Elimination Order: : : 0it [00:00, ?it/s]\n",
      "0it [00:00, ?it/s]looping\n",
      "Finding Elimination Order: : : 0it [00:00, ?it/s]\n",
      "0it [00:00, ?it/s]\n",
      "Finding Elimination Order: : : 0it [00:00, ?it/s]\n",
      "looping\n",
      "Finding Elimination Order: : : 0it [00:00, ?it/s]\n",
      "0it [00:00, ?it/s]\n",
      "Finding Elimination Order: : : 0it [00:00, ?it/s]\n",
      "looping\n",
      "Finding Elimination Order: : : 0it [00:00, ?it/s]\n",
      "0it [00:00, ?it/s]\n",
      "Finding Elimination Order: : : 0it [00:00, ?it/s]\n",
      "0it [00:00, ?it/s]looping\n",
      "Finding Elimination Order: : : 0it [00:00, ?it/s]\n",
      "0it [00:00, ?it/s]\n",
      "Finding Elimination Order: : : 0it [00:00, ?it/s]\n",
      "looping\n",
      "Finding Elimination Order: : : 0it [00:00, ?it/s]\n",
      "0it [00:00, ?it/s]\n",
      "Finding Elimination Order: : : 0it [00:00, ?it/s]\n",
      "0it [00:00, ?it/s]looping\n",
      "Finding Elimination Order: : : 0it [00:00, ?it/s]\n",
      "0it [00:00, ?it/s]\n",
      "Finding Elimination Order: : : 0it [00:00, ?it/s]\n",
      "looping\n",
      "Finding Elimination Order: : : 0it [00:00, ?it/s]\n",
      "0it [00:00, ?it/s]\n",
      "Finding Elimination Order: : : 0it [00:00, ?it/s]\n",
      "looping\n",
      "Finding Elimination Order: : : 0it [00:00, ?it/s]\n",
      "0it [00:00, ?it/s]\n",
      "Finding Elimination Order: : : 0it [00:00, ?it/s]\n",
      "0it [00:00, ?it/s]looping\n",
      "Finding Elimination Order: : : 0it [00:00, ?it/s]\n",
      "0it [00:00, ?it/s]\n",
      "Finding Elimination Order: : : 0it [00:00, ?it/s]\n",
      "0it [00:00, ?it/s]looping\n",
      "Finding Elimination Order: : : 0it [00:00, ?it/s]\n",
      "0it [00:00, ?it/s]\n",
      "Finding Elimination Order: : : 0it [00:00, ?it/s]\n",
      "looping\n",
      "Finding Elimination Order: : : 0it [00:00, ?it/s]\n",
      "0it [00:00, ?it/s]\n",
      "Finding Elimination Order: : : 0it [00:00, ?it/s]\n",
      "looping\n",
      "Finding Elimination Order: : : 0it [00:00, ?it/s]\n",
      "0it [00:00, ?it/s]\n",
      "Finding Elimination Order: : : 0it [00:00, ?it/s]\n",
      "looping\n",
      "Finding Elimination Order: : : 0it [00:00, ?it/s]\n",
      "0it [00:00, ?it/s]\n",
      "Finding Elimination Order: : : 0it [00:00, ?it/s]\n",
      "0it [00:00, ?it/s]looping\n",
      "Finding Elimination Order: : : 0it [00:00, ?it/s]\n",
      "0it [00:00, ?it/s]\n",
      "Finding Elimination Order: : : 0it [00:00, ?it/s]\n",
      "0it [00:00, ?it/s]looping\n",
      "Finding Elimination Order: : : 0it [00:00, ?it/s]\n",
      "0it [00:00, ?it/s]\n",
      "Finding Elimination Order: : : 0it [00:00, ?it/s]\n",
      "looping\n",
      "Finding Elimination Order: : : 0it [00:00, ?it/s]\n",
      "0it [00:00, ?it/s]\n",
      "Finding Elimination Order: : : 0it [00:00, ?it/s]\n",
      "looping\n",
      "Finding Elimination Order: : : 0it [00:00, ?it/s]\n",
      "0it [00:00, ?it/s]\n",
      "Finding Elimination Order: : : 0it [00:00, ?it/s]\n",
      "0it [00:00, ?it/s]looping\n",
      "Finding Elimination Order: : : 0it [00:00, ?it/s]\n",
      "0it [00:00, ?it/s]\n",
      "Finding Elimination Order: : : 0it [00:00, ?it/s]\n",
      "0it [00:00, ?it/s]looping\n",
      "Finding Elimination Order: : : 0it [00:00, ?it/s]\n",
      "0it [00:00, ?it/s]\n",
      "Finding Elimination Order: : : 0it [00:00, ?it/s]\n",
      "looping\n",
      "Finding Elimination Order: : : 0it [00:00, ?it/s]\n",
      "0it [00:00, ?it/s]\n",
      "Finding Elimination Order: : : 0it [00:00, ?it/s]\n",
      "0it [00:00, ?it/s]looping\n",
      "Finding Elimination Order: : : 0it [00:00, ?it/s]\n",
      "0it [00:00, ?it/s]\n",
      "Finding Elimination Order: : : 0it [00:00, ?it/s]\n",
      "looping\n",
      "Finding Elimination Order: : : 0it [00:00, ?it/s]\n",
      "0it [00:00, ?it/s]\n",
      "Finding Elimination Order: : : 0it [00:00, ?it/s]\n",
      "0it [00:00, ?it/s]looping\n",
      "Finding Elimination Order: : : 0it [00:00, ?it/s]\n",
      "0it [00:00, ?it/s]\n",
      "Finding Elimination Order: : : 0it [00:00, ?it/s]\n",
      "looping\n",
      "Finding Elimination Order: : : 0it [00:00, ?it/s]\n",
      "0it [00:00, ?it/s]\n",
      "Finding Elimination Order: : : 0it [00:00, ?it/s]\n",
      "0it [00:00, ?it/s]looping\n",
      "Finding Elimination Order: : : 0it [00:00, ?it/s]\n",
      "0it [00:00, ?it/s]\n",
      "Finding Elimination Order: : : 0it [00:00, ?it/s]\n",
      "looping\n",
      "Finding Elimination Order: : : 0it [00:00, ?it/s]\n",
      "0it [00:00, ?it/s]\n",
      "Finding Elimination Order: : : 0it [00:00, ?it/s]\n",
      "0it [00:00, ?it/s]looping\n",
      "Finding Elimination Order: : : 0it [00:00, ?it/s]\n",
      "0it [00:00, ?it/s]\n",
      "Finding Elimination Order: : : 0it [00:00, ?it/s]\n",
      "looping\n",
      "Finding Elimination Order: : : 0it [00:00, ?it/s]\n",
      "0it [00:00, ?it/s]\n",
      "Finding Elimination Order: : : 0it [00:00, ?it/s]\n",
      "looping\n",
      "Finding Elimination Order: : : 0it [00:00, ?it/s]\n",
      "0it [00:00, ?it/s]\n",
      "Finding Elimination Order: : : 0it [00:00, ?it/s]\n",
      "looping\n",
      "Finding Elimination Order: : : 0it [00:00, ?it/s]\n",
      "0it [00:00, ?it/s]\n",
      "Finding Elimination Order: : : 0it [00:00, ?it/s]\n",
      "looping\n",
      "Finding Elimination Order: : : 0it [00:00, ?it/s]\n",
      "0it [00:00, ?it/s]\n",
      "Finding Elimination Order: : : 0it [00:00, ?it/s]\n",
      "looping\n",
      "Finding Elimination Order: : : 0it [00:00, ?it/s]\n",
      "0it [00:00, ?it/s]\n",
      "Finding Elimination Order: : : 0it [00:00, ?it/s]\n",
      "0it [00:00, ?it/s]looping\n",
      "Finding Elimination Order: : : 0it [00:00, ?it/s]\n",
      "0it [00:00, ?it/s]\n",
      "Finding Elimination Order: : : 0it [00:00, ?it/s]\n",
      "looping\n",
      "Finding Elimination Order: : : 0it [00:00, ?it/s]\n",
      "0it [00:00, ?it/s]\n",
      "Finding Elimination Order: : : 0it [00:00, ?it/s]\n",
      "looping\n",
      "Finding Elimination Order: : : 0it [00:00, ?it/s]\n",
      "0it [00:00, ?it/s]\n",
      "Finding Elimination Order: : : 0it [00:00, ?it/s]\n",
      "looping\n",
      "Finding Elimination Order: : : 0it [00:00, ?it/s]\n",
      "0it [00:00, ?it/s]\n",
      "Finding Elimination Order: : : 0it [00:00, ?it/s]\n",
      "looping\n",
      "Finding Elimination Order: : : 0it [00:00, ?it/s]\n",
      "0it [00:00, ?it/s]\n",
      "Finding Elimination Order: : : 0it [00:00, ?it/s]\n",
      "looping\n",
      "Finding Elimination Order: : : 0it [00:00, ?it/s]\n",
      "0it [00:00, ?it/s]\n",
      "Finding Elimination Order: : : 0it [00:00, ?it/s]\n",
      "looping\n",
      "Finding Elimination Order: : : 0it [00:00, ?it/s]\n",
      "0it [00:00, ?it/s]\n",
      "Finding Elimination Order: : : 0it [00:00, ?it/s]\n",
      "looping\n",
      "Finding Elimination Order: : : 0it [00:00, ?it/s]\n",
      "0it [00:00, ?it/s]\n",
      "Finding Elimination Order: : : 0it [00:00, ?it/s]\n",
      "looping\n",
      "Finding Elimination Order: : : 0it [00:00, ?it/s]\n",
      "0it [00:00, ?it/s]\n",
      "Finding Elimination Order: : : 0it [00:00, ?it/s]\n",
      "looping\n",
      "Finding Elimination Order: : : 0it [00:00, ?it/s]\n",
      "0it [00:00, ?it/s]\n",
      "Finding Elimination Order: : : 0it [00:00, ?it/s]\n",
      "0it [00:00, ?it/s]looping\n",
      "Finding Elimination Order: : : 0it [00:00, ?it/s]\n",
      "0it [00:00, ?it/s]\n",
      "Finding Elimination Order: : : 0it [00:00, ?it/s]\n",
      "0it [00:00, ?it/s]looping\n",
      "Finding Elimination Order: : : 0it [00:00, ?it/s]\n",
      "0it [00:00, ?it/s]\n",
      "Finding Elimination Order: : : 0it [00:00, ?it/s]\n",
      "looping\n",
      "Finding Elimination Order: : : 0it [00:00, ?it/s]\n",
      "0it [00:00, ?it/s]\n",
      "Finding Elimination Order: : : 0it [00:00, ?it/s]\n",
      "looping\n",
      "Finding Elimination Order: : : 0it [00:00, ?it/s]\n",
      "0it [00:00, ?it/s]\n",
      "Finding Elimination Order: : : 0it [00:00, ?it/s]\n",
      "looping\n",
      "Finding Elimination Order: : : 0it [00:00, ?it/s]\n",
      "0it [00:00, ?it/s]\n",
      "Finding Elimination Order: : : 0it [00:00, ?it/s]\n",
      "0it [00:00, ?it/s]looping\n",
      "Finding Elimination Order: : : 0it [00:00, ?it/s]\n",
      "0it [00:00, ?it/s]\n",
      "Finding Elimination Order: : : 0it [00:00, ?it/s]\n",
      "looping\n",
      "Finding Elimination Order: : : 0it [00:00, ?it/s]\n",
      "0it [00:00, ?it/s]\n",
      "Finding Elimination Order: : : 0it [00:00, ?it/s]\n",
      "looping\n",
      "Finding Elimination Order: : : 0it [00:00, ?it/s]\n",
      "0it [00:00, ?it/s]\n",
      "Finding Elimination Order: : : 0it [00:00, ?it/s]\n",
      "looping\n",
      "Finding Elimination Order: : : 0it [00:00, ?it/s]\n",
      "0it [00:00, ?it/s]\n",
      "Finding Elimination Order: : : 0it [00:00, ?it/s]\n",
      "looping\n",
      "Finding Elimination Order: : : 0it [00:00, ?it/s]\n",
      "0it [00:00, ?it/s]\n",
      "Finding Elimination Order: : : 0it [00:00, ?it/s]\n",
      "0it [00:00, ?it/s]looping\n",
      "Finding Elimination Order: : : 0it [00:00, ?it/s]\n",
      "0it [00:00, ?it/s]\n",
      "Finding Elimination Order: : : 0it [00:00, ?it/s]\n",
      "looping\n",
      "Finding Elimination Order: : : 0it [00:00, ?it/s]\n",
      "0it [00:00, ?it/s]\n",
      "Finding Elimination Order: : : 0it [00:00, ?it/s]\n",
      "looping\n",
      "Finding Elimination Order: : : 0it [00:00, ?it/s]\n",
      "0it [00:00, ?it/s]\n",
      "Finding Elimination Order: : : 0it [00:00, ?it/s]\n",
      "0it [00:00, ?it/s]looping\n",
      "Finding Elimination Order: : : 0it [00:00, ?it/s]\n",
      "0it [00:00, ?it/s]\n",
      "Finding Elimination Order: : : 0it [00:00, ?it/s]\n",
      "0it [00:00, ?it/s]looping\n",
      "Finding Elimination Order: : : 0it [00:00, ?it/s]\n",
      "0it [00:00, ?it/s]\n",
      "Finding Elimination Order: : : 0it [00:00, ?it/s]\n",
      "looping\n",
      "Finding Elimination Order: : : 0it [00:00, ?it/s]\n",
      "0it [00:00, ?it/s]\n",
      "Finding Elimination Order: : : 0it [00:00, ?it/s]\n",
      "looping\n",
      "Finding Elimination Order: : : 0it [00:00, ?it/s]\n",
      "0it [00:00, ?it/s]\n",
      "Finding Elimination Order: : : 0it [00:00, ?it/s]\n",
      "0it [00:00, ?it/s]looping\n",
      "Finding Elimination Order: : : 0it [00:00, ?it/s]\n",
      "0it [00:00, ?it/s]\n",
      "Finding Elimination Order: : : 0it [00:00, ?it/s]\n",
      "looping\n",
      "Finding Elimination Order: : : 0it [00:00, ?it/s]\n",
      "0it [00:00, ?it/s]\n",
      "Finding Elimination Order: : : 0it [00:00, ?it/s]\n",
      "0it [00:00, ?it/s]looping\n",
      "Finding Elimination Order: : : 0it [00:00, ?it/s]\n",
      "0it [00:00, ?it/s]\n",
      "Finding Elimination Order: : : 0it [00:00, ?it/s]\n",
      "0it [00:00, ?it/s]looping\n",
      "Finding Elimination Order: : : 0it [00:00, ?it/s]\n",
      "0it [00:00, ?it/s]\n",
      "Finding Elimination Order: : : 0it [00:00, ?it/s]\n",
      "looping\n",
      "Finding Elimination Order: : : 0it [00:00, ?it/s]\n",
      "0it [00:00, ?it/s]\n",
      "Finding Elimination Order: : : 0it [00:00, ?it/s]\n",
      "looping\n",
      "Finding Elimination Order: : : 0it [00:00, ?it/s]\n",
      "0it [00:00, ?it/s]\n",
      "Finding Elimination Order: : : 0it [00:00, ?it/s]\n",
      "looping\n",
      "Finding Elimination Order: : : 0it [00:00, ?it/s]\n",
      "0it [00:00, ?it/s]\n",
      "Finding Elimination Order: : : 0it [00:00, ?it/s]\n",
      "looping\n",
      "Finding Elimination Order: : : 0it [00:00, ?it/s]\n",
      "0it [00:00, ?it/s]\n",
      "Finding Elimination Order: : : 0it [00:00, ?it/s]\n",
      "0it [00:00, ?it/s]looping\n",
      "Finding Elimination Order: : : 0it [00:00, ?it/s]\n",
      "0it [00:00, ?it/s]\n",
      "Finding Elimination Order: : : 0it [00:00, ?it/s]\n",
      "looping\n",
      "Finding Elimination Order: : : 0it [00:00, ?it/s]\n",
      "0it [00:00, ?it/s]\n",
      "Finding Elimination Order: : : 0it [00:00, ?it/s]\n",
      "looping\n",
      "Finding Elimination Order: : : 0it [00:00, ?it/s]\n",
      "0it [00:00, ?it/s]\n",
      "Finding Elimination Order: : : 0it [00:00, ?it/s]\n",
      "looping\n",
      "Finding Elimination Order: : : 0it [00:00, ?it/s]\n",
      "0it [00:00, ?it/s]\n",
      "Finding Elimination Order: : : 0it [00:00, ?it/s]\n",
      "0it [00:00, ?it/s]looping\n",
      "Finding Elimination Order: : : 0it [00:00, ?it/s]\n",
      "0it [00:00, ?it/s]\n",
      "Finding Elimination Order: : : 0it [00:00, ?it/s]\n",
      "looping\n",
      "Finding Elimination Order: : : 0it [00:00, ?it/s]\n",
      "0it [00:00, ?it/s]\n",
      "Finding Elimination Order: : : 0it [00:00, ?it/s]\n",
      "looping\n",
      "Finding Elimination Order: : : 0it [00:00, ?it/s]\n",
      "0it [00:00, ?it/s]\n",
      "Finding Elimination Order: : : 0it [00:00, ?it/s]\n",
      "looping\n",
      "Finding Elimination Order: : : 0it [00:00, ?it/s]\n",
      "0it [00:00, ?it/s]\n",
      "Finding Elimination Order: : : 0it [00:00, ?it/s]\n",
      "0it [00:00, ?it/s]looping\n",
      "Finding Elimination Order: : : 0it [00:00, ?it/s]\n",
      "0it [00:00, ?it/s]\n",
      "Finding Elimination Order: : : 0it [00:00, ?it/s]\n",
      "looping\n",
      "Finding Elimination Order: : : 0it [00:00, ?it/s]\n",
      "0it [00:00, ?it/s]\n",
      "Finding Elimination Order: : : 0it [00:00, ?it/s]\n",
      "looping\n",
      "Finding Elimination Order: : : 0it [00:00, ?it/s]\n",
      "0it [00:00, ?it/s]\n",
      "Finding Elimination Order: : : 0it [00:00, ?it/s]\n",
      "0it [00:00, ?it/s]looping\n",
      "Finding Elimination Order: : : 0it [00:00, ?it/s]\n",
      "0it [00:00, ?it/s]\n",
      "Finding Elimination Order: : : 0it [00:00, ?it/s]\n",
      "looping\n",
      "Finding Elimination Order: : : 0it [00:00, ?it/s]\n",
      "0it [00:00, ?it/s]\n",
      "Finding Elimination Order: : : 0it [00:00, ?it/s]\n",
      "0it [00:00, ?it/s]looping\n",
      "Finding Elimination Order: : : 0it [00:00, ?it/s]\n",
      "0it [00:00, ?it/s]\n",
      "Finding Elimination Order: : : 0it [00:00, ?it/s]\n",
      "0it [00:00, ?it/s]looping\n",
      "Finding Elimination Order: : : 0it [00:00, ?it/s]\n",
      "0it [00:00, ?it/s]\n",
      "Finding Elimination Order: : : 0it [00:00, ?it/s]\n",
      "looping\n",
      "Finding Elimination Order: : : 0it [00:00, ?it/s]\n",
      "0it [00:00, ?it/s]\n",
      "Finding Elimination Order: : : 0it [00:00, ?it/s]\n",
      "looping\n",
      "Finding Elimination Order: : : 0it [00:00, ?it/s]\n",
      "0it [00:00, ?it/s]\n",
      "Finding Elimination Order: : : 0it [00:00, ?it/s]\n",
      "looping\n",
      "Finding Elimination Order: : : 0it [00:00, ?it/s]\n",
      "0it [00:00, ?it/s]\n",
      "Finding Elimination Order: : : 0it [00:00, ?it/s]\n",
      "0it [00:00, ?it/s]looping\n",
      "Finding Elimination Order: : : 0it [00:00, ?it/s]\n",
      "0it [00:00, ?it/s]\n",
      "\n",
      "Score:  0.5164141414141414\n",
      "\n"
     ]
    }
   ],
   "source": [
    "score = bn.score_model(infer, x_test, y_test)"
   ]
  },
  {
   "cell_type": "code",
   "execution_count": 12,
   "metadata": {},
   "outputs": [
    {
     "output_type": "stream",
     "name": "stdout",
     "text": [
      "0.5164141414141414\n"
     ]
    }
   ],
   "source": [
    "print(score)"
   ]
  },
  {
   "cell_type": "code",
   "execution_count": null,
   "metadata": {},
   "outputs": [],
   "source": []
  }
 ],
 "metadata": {
  "language_info": {
   "codemirror_mode": {
    "name": "ipython",
    "version": 3
   },
   "file_extension": ".py",
   "mimetype": "text/x-python",
   "name": "python",
   "nbconvert_exporter": "python",
   "pygments_lexer": "ipython3",
   "version": "3.8.5-final"
  },
  "kernelspec": {
   "name": "python3",
   "display_name": "Python 3"
  }
 },
 "nbformat": 4,
 "nbformat_minor": 4
}