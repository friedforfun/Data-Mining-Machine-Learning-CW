{
 "cells": [
  {
   "cell_type": "markdown",
   "metadata": {},
   "source": [
    "# Beyond Naïve Bayes: complex Bayesian Network Architectures\n",
    "Build two or three Bayes networks of more complex architecture for (a smaller version of) this data set, increasing the number\n",
    "of connections among the nodes. Construct one of them semi-manually (e.g use K2 algorithm and vary the maximum number of parents), and two others – using Weka’s algorithms for learning Bayes net construction (e.g. use TAN or Hill Climbing algorithms). Run the experiments described in item 5 on these new Bayes network architectures. Record, compare and analyse the outputs, in the light of the previous conclusions about the given data. "
   ]
  },
  {
   "cell_type": "code",
   "execution_count": 1,
   "metadata": {},
   "outputs": [],
   "source": [
    "import math\n",
    "import numpy as np\n",
    "#from pomegranate import *\n",
    "\n",
    "import pgmpy.models\n",
    "import pgmpy.inference\n",
    "import networkx as nx\n",
    "import pylab as plt"
   ]
  },
  {
   "cell_type": "code",
   "execution_count": 2,
   "metadata": {},
   "outputs": [],
   "source": [
    "pixel_values = [x for x in range(0, 256)]\n",
    "\n"
   ]
  },
  {
   "cell_type": "code",
   "execution_count": 9,
   "metadata": {},
   "outputs": [
    {
     "output_type": "stream",
     "name": "stderr",
     "text": [
      "Finding Elimination Order: : 100%|██████████| 1/1 [00:10<00:00, 10.91s/it]\n",
      "Finding Elimination Order: : : 0it [00:00, ?it/s]\n",
      "0it [00:00, ?it/s]Probability distribution, P(Guest)\n",
      "+----------+------+\n",
      "| Guest(0) | 0.33 |\n",
      "+----------+------+\n",
      "| Guest(1) | 0.33 |\n",
      "+----------+------+\n",
      "| Guest(2) | 0.33 |\n",
      "+----------+------+\n",
      "\n",
      "Probability distribution, P(Price)\n",
      "+----------+------+\n",
      "| Prize(0) | 0.33 |\n",
      "+----------+------+\n",
      "| Prize(1) | 0.33 |\n",
      "+----------+------+\n",
      "| Prize(2) | 0.33 |\n",
      "+----------+------+\n",
      "\n",
      "Joint probability distribution, P(Monty | Guest, Price)\n",
      "+----------+----------+----------+----------+----------+----------+----------+----------+----------+----------+\n",
      "| Guest    | Guest(0) | Guest(0) | Guest(0) | Guest(1) | Guest(1) | Guest(1) | Guest(2) | Guest(2) | Guest(2) |\n",
      "+----------+----------+----------+----------+----------+----------+----------+----------+----------+----------+\n",
      "| Prize    | Prize(0) | Prize(1) | Prize(2) | Prize(0) | Prize(1) | Prize(2) | Prize(0) | Prize(1) | Prize(2) |\n",
      "+----------+----------+----------+----------+----------+----------+----------+----------+----------+----------+\n",
      "| Monty(0) | 0.0      | 0.0      | 0.0      | 0.0      | 0.5      | 1.0      | 0.0      | 1.0      | 0.5      |\n",
      "+----------+----------+----------+----------+----------+----------+----------+----------+----------+----------+\n",
      "| Monty(1) | 0.5      | 0.0      | 1.0      | 0.0      | 0.0      | 0.0      | 1.0      | 0.0      | 0.5      |\n",
      "+----------+----------+----------+----------+----------+----------+----------+----------+----------+----------+\n",
      "| Monty(2) | 0.5      | 1.0      | 0.0      | 1.0      | 0.5      | 0.0      | 0.0      | 0.0      | 0.0      |\n",
      "+----------+----------+----------+----------+----------+----------+----------+----------+----------+----------+\n",
      "\n",
      "Posterior probability, Guest(0) and Monty(2)\n",
      "+----------+--------------+\n",
      "| Prize    |   phi(Prize) |\n",
      "+==========+==============+\n",
      "| Prize(0) |       0.3333 |\n",
      "+----------+--------------+\n",
      "| Prize(1) |       0.6667 |\n",
      "+----------+--------------+\n",
      "| Prize(2) |       0.0000 |\n",
      "+----------+--------------+\n",
      "\n",
      "\n"
     ]
    }
   ],
   "source": [
    "# Example\n",
    "\n",
    "# Create a bayesian network\n",
    "model = pgmpy.models.BayesianModel([('Guest', 'Monty'), \n",
    "                                    ('Prize', 'Monty')])\n",
    "\n",
    "# Define conditional probability distributions (CPD)\n",
    "# Probability of guest selecting door 0, 1 and 2\n",
    "cpd_guest = pgmpy.factors.discrete.TabularCPD('Guest', 3, [[0.33], [0.33], [0.33]])\n",
    "# Probability that the price is behind door 0, 1 and 2\n",
    "cpd_prize = pgmpy.factors.discrete.TabularCPD('Prize', 3, [[0.33], [0.33], [0.33]])\n",
    "# Probability that Monty selects a door (0, 1, 2), when we know which door the guest has selected and we know were the prize is\n",
    "cpd_monty = pgmpy.factors.discrete.TabularCPD('Monty', 3, [[0, 0, 0, 0, 0.5, 1, 0, 1, 0.5], \n",
    "                                                           [0.5, 0, 1, 0, 0, 0, 1, 0, 0.5], \n",
    "                                                           [0.5, 1, 0, 1, 0.5, 0, 0, 0, 0]], \n",
    "                                              evidence=['Guest', 'Prize'], \n",
    "                                              evidence_card=[3, 3])\n",
    "\n",
    "# Add CPDs to the network structure\n",
    "model.add_cpds(cpd_guest, cpd_prize, cpd_monty)\n",
    "\n",
    "# Check if the model is valid, throw an exception otherwise\n",
    "model.check_model()\n",
    "# Print probability distributions\n",
    "print('Probability distribution, P(Guest)')\n",
    "print(cpd_guest)\n",
    "print()\n",
    "print('Probability distribution, P(Price)')\n",
    "print(cpd_price)\n",
    "print()\n",
    "print('Joint probability distribution, P(Monty | Guest, Price)')\n",
    "print(cpd_monty)\n",
    "print()\n",
    "\n",
    "# Plot the model\n",
    "nx.draw(model, with_labels=True)\n",
    "#plt.savefig('C:\\\\DATA\\\\Python-data\\\\bayesian-networks\\\\monty-hall.png')\n",
    "plt.close()\n",
    "\n",
    "# Perform variable elimination for inference\n",
    "# Variable elimination (VE) is a an exact inference algorithm in bayesian networks\n",
    "infer = pgmpy.inference.VariableElimination(model)\n",
    "\n",
    "# Calculate probabilites for doors including prize, the guest has selected door 0 and Monty has selected door 2\n",
    "posterior_probability = infer.query(['Prize'], evidence={'Guest': 0, 'Monty': 2})\n",
    "\n",
    "# Print posterior probability\n",
    "print('Posterior probability, Guest(0) and Monty(2)')\n",
    "print(posterior_probability)\n",
    "print()"
   ]
  },
  {
   "source": [
    "## Specific for "
   ],
   "cell_type": "markdown",
   "metadata": {}
  },
  {
   "cell_type": "code",
   "execution_count": 10,
   "metadata": {},
   "outputs": [],
   "source": [
    "from Scripts import helperfn as hf\n",
    "from Scripts import pixelFinder as pf \n",
    "from Scripts.NaiveBayse import SamNaiveBayseGaussian as nbg\n",
    "%load_ext autoreload\n",
    "%autoreload 2\n"
   ]
  },
  {
   "cell_type": "code",
   "execution_count": 11,
   "metadata": {},
   "outputs": [],
   "source": [
    "pixels = pf.get_top_pixels(5)"
   ]
  },
  {
   "cell_type": "code",
   "execution_count": 12,
   "metadata": {},
   "outputs": [],
   "source": [
    "raw_data = pf.data_lists()"
   ]
  },
  {
   "cell_type": "code",
   "execution_count": 13,
   "metadata": {},
   "outputs": [],
   "source": [
    "X, y = raw_data[1]"
   ]
  },
  {
   "cell_type": "code",
   "execution_count": 14,
   "metadata": {},
   "outputs": [
    {
     "output_type": "execute_result",
     "data": {
      "text/plain": [
       "(9690, 5)"
      ]
     },
     "metadata": {},
     "execution_count": 14
    }
   ],
   "source": [
    "five_pixels = np.take(X, pixels[1], axis=1)\n",
    "five_pixels.shape"
   ]
  },
  {
   "cell_type": "code",
   "execution_count": 78,
   "metadata": {},
   "outputs": [
    {
     "output_type": "execute_result",
     "data": {
      "text/plain": [
       "dtype('float64')"
      ]
     },
     "metadata": {},
     "execution_count": 78
    }
   ],
   "source": [
    "test = five_pixels[0:423]\n",
    "y = y[0:423]\n",
    "type(test)\n",
    "test = test.to_numpy()\n",
    "y = y.to_numpy()\n",
    "\n",
    "test.dtype"
   ]
  },
  {
   "cell_type": "code",
   "execution_count": 79,
   "metadata": {},
   "outputs": [
    {
     "output_type": "execute_result",
     "data": {
      "text/plain": [
       "array([1362,  982, 1030, 1315, 1314], dtype=int64)"
      ]
     },
     "metadata": {},
     "execution_count": 79
    }
   ],
   "source": [
    "pixels[1]"
   ]
  },
  {
   "cell_type": "code",
   "execution_count": 80,
   "metadata": {},
   "outputs": [],
   "source": [
    "model = pgmpy.models.BayesianModel([('1362', 'speed limit 20'), \n",
    "                                    ('982', 'speed limit 20'),\n",
    "                                    ('1030', 'speed limit 20'),\n",
    "                                    ('1315', 'speed limit 20'),\n",
    "                                    ('1314', 'speed limit 20')])"
   ]
  },
  {
   "cell_type": "code",
   "execution_count": 85,
   "metadata": {},
   "outputs": [],
   "source": [
    "def get_CPD(data, pixel_index, cardinality=256):\n",
    "    #conditional probability distribution table for pixel at index\n",
    "    entries = data.shape[0]\n",
    "    calc = np.zeros(cardinality, dtype=int)\n",
    "\n",
    "    for i in range(entries):\n",
    "        val = data[i][pixel_index].astype(int)\n",
    "        calc[val] += 1\n",
    "\n",
    "    calc = calc/entries\n",
    "    return calc[..., None].tolist()\n",
    "\n",
    "def pixels_as_string(pixels):\n",
    "    return list(map(str, pixels))\n",
    "\n"
   ]
  },
  {
   "cell_type": "code",
   "execution_count": 86,
   "metadata": {},
   "outputs": [],
   "source": [
    "#cpd_1362 = pgmpy.factors.discrete.TabularCPD('1362', 256, get_CPD(test, 0))\n",
    "#print('Probability distribution, P(1362)')\n",
    "#print(cpd_1362)"
   ]
  },
  {
   "cell_type": "code",
   "execution_count": 87,
   "metadata": {},
   "outputs": [],
   "source": [
    "cpd_labels = pixels_as_string(pixels[1])\n",
    "\n",
    "independant_cpd_pixel_tables = [pgmpy.factors.discrete.TabularCPD(value, 256, get_CPD(test, index)) for index, value in enumerate(cpd_labels)]\n",
    "independant_cpd_class_table = pgmpy.factors.discrete.TabularCPD('speed limit 20', 2, get_CPD(y, 0, cardinality=2))"
   ]
  },
  {
   "cell_type": "code",
   "execution_count": 89,
   "metadata": {},
   "outputs": [
    {
     "output_type": "stream",
     "name": "stdout",
     "text": [
      "+-------------------+----------+\n| speed limit 20(0) | 0.496454 |\n+-------------------+----------+\n| speed limit 20(1) | 0.503546 |\n+-------------------+----------+\n"
     ]
    }
   ],
   "source": [
    "print(independant_cpd_class_table)"
   ]
  },
  {
   "cell_type": "code",
   "execution_count": 91,
   "metadata": {},
   "outputs": [
    {
     "output_type": "execute_result",
     "data": {
      "text/plain": [
       "array([0.00472813])"
      ]
     },
     "metadata": {},
     "execution_count": 91
    }
   ],
   "source": [
    "len(independant_cpd_tables)\n",
    "independant_cpd_tables[0].get_values()[55]\n",
    "\n",
    "# need equal width binning for the grayscale values, try bin sizes of between 8 and 16"
   ]
  },
  {
   "cell_type": "code",
   "execution_count": null,
   "metadata": {},
   "outputs": [],
   "source": []
  }
 ],
 "metadata": {
  "language_info": {
   "codemirror_mode": {
    "name": "ipython",
    "version": 3
   },
   "file_extension": ".py",
   "mimetype": "text/x-python",
   "name": "python",
   "nbconvert_exporter": "python",
   "pygments_lexer": "ipython3",
   "version": "3.8.5-final"
  },
  "kernelspec": {
   "name": "python3",
   "display_name": "Python 3"
  }
 },
 "nbformat": 4,
 "nbformat_minor": 4
}