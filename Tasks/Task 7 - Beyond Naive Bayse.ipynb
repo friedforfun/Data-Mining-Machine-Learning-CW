{
 "cells": [
  {
   "cell_type": "markdown",
   "metadata": {},
   "source": [
    "# Beyond Naïve Bayes: complex Bayesian Network Architectures\n",
    "Build two or three Bayes networks of more complex architecture for (a smaller version of) this data set, increasing the number\n",
    "of connections among the nodes. Construct one of them semi-manually (e.g use K2 algorithm and vary the maximum number of parents), and two others – using Weka’s algorithms for learning Bayes net construction (e.g. use TAN or Hill Climbing algorithms). Run the experiments described in item 5 on these new Bayes network architectures. Record, compare and analyse the outputs, in the light of the previous conclusions about the given data. "
   ]
  },
  {
   "cell_type": "code",
   "execution_count": 31,
   "metadata": {},
   "outputs": [],
   "source": [
    "def _get_file_path(filename):\n",
    "    \"\"\"Construct the filepath string, takes name of file as arg\n",
    "\n",
    "    :param filename: The name of the file to be imported\n",
    "    :type filename: string\n",
    "    :return: The absolute path to the file\n",
    "    :rtype: string\n",
    "    \"\"\"\n",
    "    my_path = os.path.abspath(os.path.dirname(\"Data/weka_files/\"))\n",
    "    return os.path.join(my_path, filename)\n",
    "\n",
    "def wekaPixelChooser(input_file, output_file, best_pixels_num, positive_num, negative_num):\n",
    "    from Scripts import helperfn as hf\n",
    "    from Scripts import pixelFinder as pf\n",
    "    import pandas as pd\n",
    "\n",
    "    #Input list of pixel indexes, from Task 4\n",
    "    pixels = pf.bestPixels(0, best_pixels_num)\n",
    "\n",
    "    # add attributes to top of export file\n",
    "    f = open(_get_file_path(output_file), \"w\")\n",
    "\n",
    "    attributes_txt = \"@relation x_train_gr_smpl\\n\"\n",
    "\n",
    "    for i in pixels:\n",
    "        attributes_txt += \"@attribute X\" + str(i) + \" numeric \\n\"\n",
    "\n",
    "    attributes_txt += \"@attribute LABEL {True, False}\\n@Data\\n\"\n",
    "\n",
    "    f.write(attributes_txt)\n",
    "    f.close()\n",
    "\n",
    "    #input weka file but only the data so it looks like csv\n",
    "    df = pd.read_csv (_get_file_path(input_file), header=None)\n",
    "\n",
    "    #group by outcome, two groups 0 and 1\n",
    "    grouped = df.groupby(2304, as_index = False)\n",
    "\n",
    "    #get dataframe of each group\n",
    "    g0 = grouped.get_group(0)\n",
    "    g1 = grouped.get_group(1)\n",
    "\n",
    "    #get n random rows from group 0 (CHOOSE HOW MANY POSITIVE ROWS YOU WANT)\n",
    "    random_g0 = g0.sample(positive_num, random_state=20)\n",
    "    # random_g0\n",
    "\n",
    "    # get m random rows from group 1 (CHOOSE HOW MANY NEGATIVE ROWS YOU WANT)\n",
    "    random_g1 = g1.sample(negative_num, random_state=20)\n",
    "    # random_g1\n",
    "\n",
    "\n",
    "    #get only the defined columns and outcome which is column 2304, columns == list of pixel indexes\n",
    "    #concat them together as a single DataFrame\n",
    "    choosen_indexes = pd.concat([random_g0[pixels + [2304]], random_g1[pixels + [2304]]])\n",
    "    # choosen_indexes\n",
    "\n",
    "    #replace 0 and 1 outcomes to True and False respectively\n",
    "    choosen_indexes[2304].replace([0, 1], ['True', 'False'], inplace=True)\n",
    "    choosen_indexes\n",
    "\n",
    "    # export weka values to new file\n",
    "    choosen_indexes.to_csv(_get_file_path(output_file), header=None, index=None, mode='a')\n"
   ]
  },
  {
   "cell_type": "code",
   "execution_count": 36,
   "metadata": {},
   "outputs": [],
   "source": [
    "wekaPixelChooser('train_gr_smpl_0.arff', 'test_output.arff', 5, 20, 30)"
   ]
  },
  {
   "cell_type": "code",
   "execution_count": 14,
   "metadata": {},
   "outputs": [],
   "source": [
    "from Scripts import helperfn as hf\n",
    "from Scripts import pixelFinder as pf\n",
    "import pandas as pd\n",
    "\n",
    "#Input list of pixel indexes, from Task 4\n",
    "pixels = pf.bestPixels(0, 10)\n",
    "\n",
    "\n",
    "# add attributes to top of export file\n",
    "f = open(r'C:\\Users\\Kamcio\\Desktop\\wekaaa\\test_result.arff', \"w\")\n",
    "\n",
    "attributes_txt = \"@relation x_train_gr_smpl\\n\"\n",
    "\n",
    "for i in pixels:\n",
    "    attributes_txt += \"@attribute X\" + str(i) + \" numeric \\n\"\n",
    "\n",
    "attributes_txt += \"@attribute LABEL {True, False}\\n@Data\\n\"\n",
    "\n",
    "f.write(attributes_txt)\n",
    "f.close()"
   ]
  },
  {
   "cell_type": "code",
   "execution_count": 22,
   "metadata": {},
   "outputs": [],
   "source": [
    "#input weka file but only the data so it looks like csv\n",
    "df = pd.read_csv (r'C:\\Users\\Kamcio\\Desktop\\wekaaa\\train_gr_smpl_0.arff', header=None)\n",
    "\n",
    "#group by outcome, two groups 0 and 1\n",
    "grouped = df.groupby(2304, as_index = False)\n",
    "\n",
    "#get dataframe of each group\n",
    "g0 = grouped.get_group(0)\n",
    "g1 = grouped.get_group(1)\n",
    "\n",
    "#get n random rows from group 0 (CHOOSE HOW MANY POSITIVE ROWS YOU WANT)\n",
    "random_g0 = g0.sample(100, random_state=20)\n",
    "# random_g0\n",
    "\n",
    "# get m random rows from group 1 (CHOOSE HOW MANY NEGATIVE ROWS YOU WANT)\n",
    "random_g1 = g1.sample(100, random_state=20)\n",
    "# random_g1\n",
    "\n",
    "\n",
    "#get only the defined columns and outcome which is column 2304, columns == list of pixel indexes\n",
    "#concat them together as a single DataFrame\n",
    "choosen_indexes = pd.concat([random_g0[pixels + [2304]], random_g1[pixels + [2304]]])\n",
    "# choosen_indexes\n",
    "\n",
    "#replace 0 and 1 outcomes to True and False respectively\n",
    "choosen_indexes[2304].replace([0, 1], ['True', 'False'], inplace=True)\n",
    "choosen_indexes\n",
    "\n",
    "# export weka values to new file\n",
    "choosen_indexes.to_csv(r'C:\\Users\\Kamcio\\Desktop\\wekaaa\\test_result.arff', header=None, index=None, mode='a')"
   ]
  },
  {
   "cell_type": "code",
   "execution_count": 1,
   "metadata": {},
   "outputs": [],
   "source": [
    "from Scripts import wekaTask7 as weka\n",
    "weka.wekaPixelChooser('train_gr_smpl_0.arff', 'test_output.arff', 5, 20, 30)\n"
   ]
  },
  {
   "cell_type": "code",
   "execution_count": null,
   "metadata": {},
   "outputs": [],
   "source": []
  }
 ],
 "metadata": {
  "kernelspec": {
   "name": "Python 3.8.5 64-bit ('F20DL': conda)",
   "display_name": "Python 3.8.5 64-bit ('F20DL': conda)",
   "metadata": {
    "interpreter": {
     "hash": "9a79c98250dc878f7a1699e3f2e719f6607bf26813270e7c7dcd5deaed3d5b55"
    }
   }
  },
  "language_info": {
   "codemirror_mode": {
    "name": "ipython",
    "version": 3
   },
   "file_extension": ".py",
   "mimetype": "text/x-python",
   "name": "python",
   "nbconvert_exporter": "python",
   "pygments_lexer": "ipython3",
   "version": "3.8.5-final"
  }
 },
 "nbformat": 4,
 "nbformat_minor": 4
}