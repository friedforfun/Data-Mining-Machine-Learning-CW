{
 "cells": [
  {
   "cell_type": "markdown",
   "metadata": {},
   "source": [
    "# Improvement in classification, based on feature selection\n",
    "Using the information about the top\n",
    "correlating features obtained in item (4), transform the full data set **`train_smpl`** so as to keep the\n",
    "following attributes:\n",
    "* Using only the top 5 pixels from each **`train_smpl_\\<label>`**.\n",
    "* Using only the top 10 pixels from each **`train_smpl_\\<label>`**.\n",
    "* Using only the top 20 pixels from each **`train_smpl_\\<label>`**.\n",
    "* You will have three data sets, with approximately 50, 100 and 200 features (pixels) each.\n",
    "Repeat the experiment described in item (3) on these three data sets."
   ]
  },
  {
   "cell_type": "code",
   "execution_count": null,
   "metadata": {},
   "outputs": [],
   "source": []
  }
 ],
 "metadata": {
  "kernelspec": {
   "display_name": "Python 3",
   "language": "python",
   "name": "python3"
  },
  "language_info": {
   "codemirror_mode": {
    "name": "ipython",
    "version": 3
   },
   "file_extension": ".py",
   "mimetype": "text/x-python",
   "name": "python",
   "nbconvert_exporter": "python",
   "pygments_lexer": "ipython3",
   "version": "3.8.5"
  }
 },
 "nbformat": 4,
 "nbformat_minor": 4
}
