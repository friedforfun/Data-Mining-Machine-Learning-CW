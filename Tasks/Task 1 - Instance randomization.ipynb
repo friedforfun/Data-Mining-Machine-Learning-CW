{
 "cells": [
  {
   "cell_type": "markdown",
   "metadata": {},
   "source": [
    "# Data Randomization\n",
    "Produce versions of the above files that have the instances in a\n",
    "randomised order."
   ]
  },
  {
   "source": [
    "## Problem: our data sample needs to keep the matching y column"
   ],
   "cell_type": "markdown",
   "metadata": {}
  },
  {
   "cell_type": "code",
   "execution_count": 1,
   "metadata": {},
   "outputs": [],
   "source": [
    "# import helper functions from helperfn.py\n",
    "import helperfn as load_data\n",
    "\n",
    "# Jupyter notebook magic to auto reload the module when it gets changed\n",
    "%load_ext autoreload\n",
    "%autoreload 2"
   ]
  },
  {
   "cell_type": "code",
   "execution_count": 31,
   "metadata": {},
   "outputs": [
    {
     "output_type": "execute_result",
     "data": {
      "text/plain": [
       "((9690, 2304), (9690, 1))"
      ]
     },
     "metadata": {},
     "execution_count": 31
    }
   ],
   "source": [
    "# Example of how to get randomised data from a file in the 'Data' folder\n",
    "x, y = load_data.get_random_data(-1)\n",
    "x.shape, y.shape"
   ]
  },
  {
   "cell_type": "code",
   "execution_count": 18,
   "metadata": {},
   "outputs": [
    {
     "output_type": "stream",
     "name": "stdout",
     "text": [
      "mean:  [-0.32273189 -0.32363839 -0.31997007 ... -0.49734489 -0.49363907\n -0.49487499]\nmin:  -1.0\nmax:  1.0000000000000002\n"
     ]
    }
   ],
   "source": [
    "# Data normalized between 0 and 1\n",
    "zero_to_one_data = raw_data / 255\n",
    "# print(normalized_data)\n",
    "\n",
    "from sklearn import preprocessing\n",
    "# See https://scikit-learn.org/stable/modules/preprocessing.html\n",
    "import numpy as np\n",
    "\n",
    "# scaled with https://scikit-learn.org/stable/modules/generated/sklearn.preprocessing.MinMaxScaler.html#sklearn.preprocessing.MinMaxScaler\n",
    "min_max_scaler = preprocessing.MinMaxScaler(feature_range=(-1, 1))\n",
    "min_max_data = min_max_scaler.fit_transform(raw_data)\n",
    "print(\"mean: \", min_max_data.mean(axis=0))\n",
    "print(\"min: \", min_max_data.min())\n",
    "print(\"max: \", min_max_data.max())\n",
    "#print(min_max_data)"
   ]
  },
  {
   "cell_type": "code",
   "execution_count": 17,
   "metadata": {},
   "outputs": [
    {
     "output_type": "stream",
     "name": "stdout",
     "text": [
      "mean:  [-2.73144653e-17  2.52979612e-17  2.32814570e-17 ...  2.30981385e-17\n  1.09991136e-17 -4.17966315e-17]\nmin:  -1.7051161058250688\nmax:  4.668295812485869\n"
     ]
    }
   ],
   "source": [
    "# Scaled with https://scikit-learn.org/stable/modules/generated/sklearn.preprocessing.scale.html#sklearn.preprocessing.scale\n",
    "\n",
    "scaled_data = preprocessing.scale(raw_data)\n",
    "#print(scaled_data)\n",
    "print(\"mean: \", scaled_data.mean(axis=0))\n",
    "print(\"min: \", scaled_data.min())\n",
    "print(\"max: \", scaled_data.max())"
   ]
  },
  {
   "cell_type": "code",
   "execution_count": 25,
   "metadata": {},
   "outputs": [],
   "source": [
    "# -- THIS IS USED FOR COMPLETING Q1. PRODUCING RANDOMIZED ORDER FOR ALL FILES --\n",
    "from Scripts import helperfn as hf\n",
    "from sklearn.utils import shuffle\n",
    "\n",
    "seed = 42\n",
    "\n",
    "X = hf.get_data_noresults()\n",
    "XRandom = shuffle(X, random_state=seed)\n",
    "\n",
    "fileName = \"x_train_gr_smpl_randomized.csv\"\n",
    "XRandom.to_csv(fileName, index=False,  header=False)\n",
    "\n",
    "for i in range(-1, 10):\n",
    "    y = hf.get_results(i)\n",
    "    yRandom = shuffle(y, random_state=seed)\n",
    "\n",
    "    fileName = \"y_train_smpl_\" + str(i) + \"_randomized.csv\"\n",
    "    yRandom.to_csv(fileName, index=False,  header=False)\n"
   ]
  }
 ],
 "metadata": {
  "kernelspec": {
   "display_name": "Python 3",
   "language": "python",
   "name": "python3"
  },
  "language_info": {
   "codemirror_mode": {
    "name": "ipython",
    "version": 3
   },
   "file_extension": ".py",
   "mimetype": "text/x-python",
   "name": "python",
   "nbconvert_exporter": "python",
   "pygments_lexer": "ipython3",
   "version": "3.8.3-final"
  }
 },
 "nbformat": 4,
 "nbformat_minor": 4
}