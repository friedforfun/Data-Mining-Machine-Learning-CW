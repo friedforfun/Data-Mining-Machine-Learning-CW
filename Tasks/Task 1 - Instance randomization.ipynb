{
 "cells": [
  {
   "cell_type": "markdown",
   "metadata": {},
   "source": [
    "# Data Randomization\n",
    "Produce versions of the above files that have the instances in a\n",
    "randomised order."
   ]
  },
  {
   "cell_type": "code",
   "execution_count": null,
   "metadata": {},
   "outputs": [],
   "source": [
    "import pandas\n",
    "import os.path"
   ]
  },
  {
   "cell_type": "code",
   "execution_count": null,
   "metadata": {},
   "outputs": [],
   "source": [
    "def _get_random_data(filepath):\n",
    "    \"\"\"Use get_random_data() instead. \n",
    "    Get Dataframe with randomized instance order, takes filepath as arg\"\"\"\n",
    "    df = pandas.read_csv(filepath)\n",
    "    return df.sample(frac=1)\n"
   ]
  },
  {
   "cell_type": "code",
   "execution_count": null,
   "metadata": {},
   "outputs": [],
   "source": [
    "def _get_file_path(filename):\n",
    "    \"\"\"Construct the filepath string, takes name of file as arg\"\"\"\n",
    "    my_path = os.path.abspath(os.path.dirname(\"Data/\"))\n",
    "    return os.path.join(my_path, filename)\n"
   ]
  },
  {
   "cell_type": "code",
   "execution_count": null,
   "metadata": {},
   "outputs": [],
   "source": [
    "def get_random_data(filename):\n",
    "    \"\"\"Get Dataframe with randomized instance order, takes filename as arg\"\"\"\n",
    "    return _get_random_data(_get_file_path('x_train_gr_smpl.csv'))"
   ]
  },
  {
   "cell_type": "code",
   "execution_count": null,
   "metadata": {},
   "outputs": [],
   "source": [
    "# Example of how to get randomised data from a file in the 'Data' folder\n",
    "random_x_train_gr_smpl = get_random_data('x_train_gr_smpl.csv')\n",
    "print(random_x_train_gr_smpl)"
   ]
  }
 ],
 "metadata": {
  "kernelspec": {
   "display_name": "Python 3",
   "language": "python",
   "name": "python3"
  },
  "language_info": {
   "codemirror_mode": {
    "name": "ipython",
    "version": 3
   },
   "file_extension": ".py",
   "mimetype": "text/x-python",
   "name": "python",
   "nbconvert_exporter": "python",
   "pygments_lexer": "ipython3",
   "version": "3.8.5"
  }
 },
 "nbformat": 4,
 "nbformat_minor": 4
}