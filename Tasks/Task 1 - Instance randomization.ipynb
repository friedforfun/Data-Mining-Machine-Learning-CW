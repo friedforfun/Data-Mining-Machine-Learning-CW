{
 "cells": [
  {
   "cell_type": "markdown",
   "metadata": {},
   "source": [
    "# Data Randomization\n",
    "Produce versions of the above files that have the instances in a\n",
    "randomised order."
   ]
  },
  {
   "cell_type": "code",
   "execution_count": 2,
   "metadata": {},
   "outputs": [],
   "source": [
    "import pandas\n",
    "import os.path"
   ]
  },
  {
   "cell_type": "code",
   "execution_count": 3,
   "metadata": {},
   "outputs": [],
   "source": [
    "def _get_random_data(filepath):\n",
    "    \"\"\"Use get_random_data() instead. \n",
    "    Get Dataframe with randomized instance order, takes filepath as arg\"\"\"\n",
    "    df = pandas.read_csv(filepath)\n",
    "    return df.sample(frac=1)\n"
   ]
  },
  {
   "cell_type": "code",
   "execution_count": 4,
   "metadata": {},
   "outputs": [],
   "source": [
    "def _get_file_path(filename):\n",
    "    \"\"\"Construct the filepath string, takes name of file as arg\"\"\"\n",
    "    my_path = os.path.abspath(os.path.dirname(\"Data/\"))\n",
    "    return os.path.join(my_path, filename)\n"
   ]
  },
  {
   "cell_type": "code",
   "execution_count": 5,
   "metadata": {},
   "outputs": [],
   "source": [
    "def get_random_data(filename):\n",
    "    \"\"\"Get Dataframe with randomized instance order, takes filename as arg\"\"\"\n",
    "    return _get_random_data(_get_file_path(filename))"
   ]
  },
  {
   "cell_type": "code",
   "execution_count": 6,
   "metadata": {
    "tags": []
   },
   "outputs": [
    {
     "output_type": "stream",
     "name": "stdout",
     "text": "          0      1      2      3      4      5      6      7      8      9  \\\n7296   45.0   47.0   49.0   47.0   47.0   46.0   46.0   46.0   46.0   44.0   \n2810  231.0  247.0  155.0  107.0  107.0  104.0  107.0  107.0  108.0  107.0   \n1553   62.0   59.0   55.0   48.0   36.0   32.0   40.0   52.0   44.0   16.0   \n6618   41.0   42.0   41.0   40.0   40.0   39.0   39.0   39.0   41.0   42.0   \n1847   25.0   21.0   21.0   27.0   41.0   60.0   82.0   70.0   26.0   41.0   \n...     ...    ...    ...    ...    ...    ...    ...    ...    ...    ...   \n8129  255.0  255.0  255.0  255.0  255.0  255.0  255.0  255.0  255.0  255.0   \n7457   14.0   14.0   15.0   16.0   17.0   19.0   21.0   18.0   16.0   15.0   \n7164   33.0   37.0   53.0   34.0   20.0   38.0   68.0   57.0   41.0   36.0   \n9106   70.0   64.0   61.0   72.0   74.0   76.0   79.0   77.0   75.0   69.0   \n6687   22.0   22.0   20.0   24.0   27.0   26.0   23.0   17.0   14.0   13.0   \n\n      ...   2294   2295   2296   2297   2298   2299   2300   2301   2302  \\\n7296  ...   40.0   40.0   39.0   38.0   38.0   36.0   35.0   34.0   37.0   \n2810  ...   59.0  106.0   74.0   34.0   39.0   78.0  145.0  161.0  187.0   \n1553  ...    7.0    7.0    8.0    8.0    8.0    8.0    7.0    8.0    8.0   \n6618  ...   45.0   44.0   43.0   44.0   45.0   48.0   42.0   38.0   37.0   \n1847  ...   38.0   28.0   31.0   27.0   28.0   29.0   28.0   33.0   33.0   \n...   ...    ...    ...    ...    ...    ...    ...    ...    ...    ...   \n8129  ...  255.0  255.0  255.0  255.0  255.0  255.0  255.0  255.0  255.0   \n7457  ...   14.0   14.0   14.0   15.0   17.0   17.0   17.0   18.0   17.0   \n7164  ...   20.0   28.0   24.0   23.0   16.0   15.0   19.0   14.0   19.0   \n9106  ...  114.0   83.0   44.0   34.0   34.0   35.0   36.0   38.0   36.0   \n6687  ...   18.0   17.0   19.0   18.0   23.0   17.0   12.0   12.0   11.0   \n\n       2303  \n7296   40.0  \n2810  210.0  \n1553    7.0  \n6618   37.0  \n1847   34.0  \n...     ...  \n8129  255.0  \n7457   16.0  \n7164   25.0  \n9106   34.0  \n6687   13.0  \n\n[9690 rows x 2304 columns]\n"
    }
   ],
   "source": [
    "# Example of how to get randomised data from a file in the 'Data' folder\n",
    "random_x_train_gr_smpl = get_random_data('x_train_gr_smpl.csv')\n",
    "print(random_x_train_gr_smpl)"
   ]
  },
  {
   "cell_type": "code",
   "execution_count": null,
   "metadata": {},
   "outputs": [],
   "source": [
    "# Maybe we should use data stratification from lecture 8"
   ]
  }
 ],
 "metadata": {
  "kernelspec": {
   "display_name": "Python 3",
   "language": "python",
   "name": "python3"
  },
  "language_info": {
   "codemirror_mode": {
    "name": "ipython",
    "version": 3
   },
   "file_extension": ".py",
   "mimetype": "text/x-python",
   "name": "python",
   "nbconvert_exporter": "python",
   "pygments_lexer": "ipython3",
   "version": "3.8.3-final"
  }
 },
 "nbformat": 4,
 "nbformat_minor": 4
}