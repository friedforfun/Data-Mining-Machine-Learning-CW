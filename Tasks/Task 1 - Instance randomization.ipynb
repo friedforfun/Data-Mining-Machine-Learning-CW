{
 "cells": [
  {
   "cell_type": "markdown",
   "metadata": {},
   "source": [
    "# Data Randomization\n",
    "Produce versions of the above files that have the instances in a\n",
    "randomised order."
   ]
  },
  {
   "cell_type": "code",
   "execution_count": 1,
   "metadata": {},
   "outputs": [],
   "source": [
    "import pandas\n",
    "import os.path"
   ]
  },
  {
   "cell_type": "code",
   "execution_count": 2,
   "metadata": {},
   "outputs": [],
   "source": [
    "def _get_random_data(filepath):\n",
    "    \"\"\"Use get_random_data() instead. \n",
    "    Get Dataframe with randomized instance order, takes filepath as arg\"\"\"\n",
    "    df = pandas.read_csv(filepath)\n",
    "    return df.sample(frac=1)\n"
   ]
  },
  {
   "cell_type": "code",
   "execution_count": 3,
   "metadata": {},
   "outputs": [],
   "source": [
    "def _get_file_path(filename):\n",
    "    \"\"\"Construct the filepath string, takes name of file as arg\"\"\"\n",
    "    my_path = os.path.abspath(os.path.dirname(\"Data/\"))\n",
    "    return os.path.join(my_path, filename)\n"
   ]
  },
  {
   "cell_type": "code",
   "execution_count": 4,
   "metadata": {},
   "outputs": [],
   "source": [
    "def get_random_data(filename):\n",
    "    \"\"\"Get Dataframe with randomized instance order, takes filename as arg\"\"\"\n",
    "    return _get_random_data(_get_file_path('x_train_gr_smpl.csv'))"
   ]
  },
  {
   "cell_type": "code",
   "execution_count": 6,
   "metadata": {},
   "outputs": [
    {
     "output_type": "stream",
     "name": "stdout",
     "text": [
      "          0      1      2      3      4      5      6      7      8      9  \\\n8711   69.0   70.0   66.0   62.0   61.0   63.0   64.0   62.0   59.0   61.0   \n2660   98.0   76.0  125.0  171.0  144.0  140.0  150.0  151.0  140.0  131.0   \n8888  130.0  133.0  134.0  137.0  139.0  139.0  137.0  128.0  116.0  108.0   \n6111   56.0   68.0   96.0  123.0  145.0  154.0   82.0   38.0   32.0   29.0   \n2472   76.0   76.0   75.0   74.0   77.0   85.0   87.0   82.0   78.0   83.0   \n...     ...    ...    ...    ...    ...    ...    ...    ...    ...    ...   \n8518  255.0  255.0  255.0  255.0  255.0  255.0  255.0  255.0  255.0  255.0   \n4548   16.0   17.0   17.0   18.0   19.0   18.0   18.0   17.0   17.0   18.0   \n3091  221.0  172.0   89.0   63.0   49.0   46.0   43.0   42.0   43.0   46.0   \n8661   47.0   39.0   45.0   47.0   39.0   47.0   48.0   40.0   42.0   46.0   \n5233  227.0  229.0  228.0  229.0  229.0  229.0  229.0  229.0  230.0  231.0   \n\n      ...   2294   2295   2296   2297   2298   2299   2300   2301   2302  \\\n8711  ...   70.0   68.0   70.0   68.0   65.0   64.0   65.0   65.0   63.0   \n2660  ...   93.0  122.0  115.0   90.0   50.0   43.0   28.0   21.0   18.0   \n8888  ...  193.0  173.0  164.0  173.0  203.0  224.0  236.0  240.0  233.0   \n6111  ...  111.0  175.0  184.0  150.0  120.0   76.0   66.0   64.0   86.0   \n2472  ...   78.0   81.0   96.0  106.0   95.0   70.0   77.0   75.0   72.0   \n...   ...    ...    ...    ...    ...    ...    ...    ...    ...    ...   \n8518  ...   19.0   31.0   61.0  205.0  254.0  255.0  255.0  255.0  255.0   \n4548  ...   16.0   16.0   16.0   17.0   17.0   17.0   17.0   17.0   17.0   \n3091  ...   79.0   82.0   85.0   88.0   90.0   91.0   90.0   88.0   84.0   \n8661  ...   29.0   33.0  122.0  113.0   74.0   58.0   73.0   71.0   69.0   \n5233  ...  173.0  178.0  180.0  181.0  181.0  180.0  181.0  181.0  180.0   \n\n       2303  \n8711   60.0  \n2660   20.0  \n8888  211.0  \n6111  102.0  \n2472   70.0  \n...     ...  \n8518  255.0  \n4548   16.0  \n3091   81.0  \n8661   65.0  \n5233  178.0  \n\n[9690 rows x 2304 columns]\n"
     ]
    }
   ],
   "source": [
    "# Example of how to get randomised data from a file in the 'Data' folder\n",
    "random_x_train_gr_smpl = get_random_data('y_train_gr_smpl_0.csv')\n",
    "print(random_x_train_gr_smpl)"
   ]
  },
  {
   "cell_type": "code",
   "execution_count": null,
   "metadata": {},
   "outputs": [],
   "source": [
    "# Maybe we should use data stratification from lecture 8"
   ]
  }
 ],
 "metadata": {
  "kernelspec": {
   "display_name": "Python 3",
   "language": "python",
   "name": "python3"
  },
  "language_info": {
   "codemirror_mode": {
    "name": "ipython",
    "version": 3
   },
   "file_extension": ".py",
   "mimetype": "text/x-python",
   "name": "python",
   "nbconvert_exporter": "python",
   "pygments_lexer": "ipython3",
   "version": "3.8.3-final"
  }
 },
 "nbformat": 4,
 "nbformat_minor": 4
}