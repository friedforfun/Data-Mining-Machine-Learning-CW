{
 "cells": [
  {
   "cell_type": "markdown",
   "metadata": {},
   "source": [
    "# Deeper analysis of the data\n",
    "The data is split into 10 classes, search for important attributes for each class.\n",
    "or each **`train_smpl_<label>`** file, record the first 10 pixels, in order of the absolute\n",
    "correlation value, for each street sign."
   ]
  },
  {
   "cell_type": "code",
   "execution_count": 21,
   "metadata": {},
   "outputs": [
    {
     "output_type": "stream",
     "name": "stdout",
     "text": [
      "Dataset:  -1  Has results: [0 1 2 3 4 5 6 7 8 9]\n",
      "(7752, 2304) (1938, 2304) (7752, 1) (1938, 1)\n",
      "float64\n",
      "Dataset:  0  Has results: [0 1]\n",
      "(7752, 2304) (1938, 2304) (7752, 1) (1938, 1)\n",
      "float64\n",
      "Dataset:  1  Has results: [0 1]\n",
      "(7752, 2304) (1938, 2304) (7752, 1) (1938, 1)\n",
      "float64\n",
      "Dataset:  2  Has results: [0 1]\n",
      "(7752, 2304) (1938, 2304) (7752, 1) (1938, 1)\n",
      "float64\n",
      "Dataset:  3  Has results: [0 1]\n",
      "(7752, 2304) (1938, 2304) (7752, 1) (1938, 1)\n",
      "float64\n",
      "Dataset:  4  Has results: [0 1]\n",
      "(7752, 2304) (1938, 2304) (7752, 1) (1938, 1)\n",
      "float64\n",
      "Dataset:  5  Has results: [0 1]\n",
      "(7752, 2304) (1938, 2304) (7752, 1) (1938, 1)\n",
      "float64\n",
      "Dataset:  6  Has results: [0 1]\n",
      "(7752, 2304) (1938, 2304) (7752, 1) (1938, 1)\n",
      "float64\n",
      "Dataset:  7  Has results: [0 1]\n",
      "(7752, 2304) (1938, 2304) (7752, 1) (1938, 1)\n",
      "float64\n",
      "Dataset:  8  Has results: [0 1]\n",
      "(7752, 2304) (1938, 2304) (7752, 1) (1938, 1)\n",
      "float64\n",
      "Dataset:  9  Has results: [0 1]\n",
      "(7752, 2304) (1938, 2304) (7752, 1) (1938, 1)\n",
      "float64\n",
      "Scores for dataset:  All Classes\n",
      "Training data score:  0.23232714138286895\n",
      "Testing data score:  0.22033023735810114\n",
      "--------------------------------------\n",
      "Scores for dataset:  speed limit 20\n",
      "Training data score:  0.8102425180598555\n",
      "Testing data score:  0.8090815273477813\n",
      "--------------------------------------\n",
      "Scores for dataset:  speed limit 30\n",
      "Training data score:  0.6606037151702786\n",
      "Testing data score:  0.6656346749226006\n",
      "--------------------------------------\n",
      "Scores for dataset:  speed limit 50\n",
      "Training data score:  0.6167440660474717\n",
      "Testing data score:  0.6078431372549019\n",
      "--------------------------------------\n",
      "Scores for dataset:  speed limit 60\n",
      "Training data score:  0.6377708978328174\n",
      "Testing data score:  0.6393188854489165\n",
      "--------------------------------------\n",
      "Scores for dataset:  speed limit 70\n",
      "Training data score:  0.5276057791537667\n",
      "Testing data score:  0.5067079463364293\n",
      "--------------------------------------\n",
      "Scores for dataset:  left turn\n",
      "Training data score:  0.48310113519091846\n",
      "Testing data score:  0.4845201238390093\n",
      "--------------------------------------\n",
      "Scores for dataset:  right turn\n",
      "Training data score:  0.5937822497420021\n",
      "Testing data score:  0.5897832817337462\n",
      "--------------------------------------\n",
      "Scores for dataset:  beware pedestrian crossing\n",
      "Training data score:  0.4850361197110423\n",
      "Testing data score:  0.47523219814241485\n",
      "--------------------------------------\n",
      "Scores for dataset:  beware children\n",
      "Training data score:  0.7952786377708978\n",
      "Testing data score:  0.8023735810113519\n",
      "--------------------------------------\n",
      "Scores for dataset:  beware cycle route ahead\n",
      "Training data score:  0.8655830753353974\n",
      "Testing data score:  0.8679050567595459\n",
      "--------------------------------------\n"
     ]
    }
   ],
   "source": [
    "from Scripts.NaiveBayse import SamNaiveBayseGaussian as nbg\n",
    "\n",
    "model = nbg.build_nbg_models()"
   ]
  },
  {
   "cell_type": "code",
   "execution_count": 1,
   "metadata": {},
   "outputs": [],
   "source": [
    "from Scripts import helperfn as hf\n",
    "\n",
    "X, y = hf.get_data(0)\n"
   ]
  },
  {
   "cell_type": "code",
   "execution_count": 83,
   "metadata": {
    "tags": []
   },
   "outputs": [
    {
     "output_type": "stream",
     "name": "stdout",
     "text": [
      "1241\n"
     ]
    }
   ],
   "source": [
    "import matplotlib.pyplot as plt\n",
    "import numpy as np\n",
    "\n",
    "# X['333'].corr(y['y'])\n",
    "\n",
    "onlyOne = X['0'].astype(int).to_frame()\n",
    "\n",
    "appended = hf.append_result_col(onlyOne, y)\n",
    "corrMatrix = appended.corr(method='spearman')\n",
    "\n",
    "\n",
    "result = []\n",
    "\n",
    "for i in range(X.shape[1]):\n",
    "    result.append(X[str(i)].corr(y['y']))\n",
    "\n",
    "result = np.array(result)\n",
    "\n",
    "\n",
    "\n",
    "print(index)"
   ]
  },
  {
   "cell_type": "code",
   "execution_count": 84,
   "metadata": {},
   "outputs": [
    {
     "output_type": "stream",
     "name": "stdout",
     "text": [
      "[1362, 982, 1029, 1313, 1312, 1076, 1403, 1029, 1402, 934, 1500, 1262, 1446, 1498, 1493, 1446, 981, 1352, 1493, 1352, 1489, 1029, 1072, 1486, 1074, 1486, 1485, 983, 1257, 885, 1115, 73, 1434, 25, 1116, 930, 1069, 1114, 119, 72, 1022, 25, 117, 1510, 1156, 1508, 1512, 1196, 975, 70, 1200, 1419, 115, 70, 24, 1333, 1424, 1150, 976, 113, 1018, 925, 1230, 351, 1281, 303, 24, 157, 1491, 870, 1231, 300, 1484, 1356, 343, 1484, 1407, 917, 157, 1051, 1360, 345, 344, 1401, 919, 392, 1355, 1398, 392, 341, 343, 388, 388, 341, 299, 903, 297, 860, 296, 296]\n"
     ]
    }
   ],
   "source": [
    "#make 3 datasets\n",
    "\n",
    "#one for each corroloation method\n",
    "\n",
    "#each datsaet will contain the dataset of the column and y label\n",
    "\n",
    "res_arr = []\n",
    "\n",
    "for i in range(100):\n",
    "\n",
    "    index = np.argmax(result)\n",
    "    res_arr.append(index)\n",
    "\n",
    "    result = np.delete(result, index)\n",
    "\n",
    "\n",
    "print(res_arr)"
   ]
  },
  {
   "cell_type": "code",
   "execution_count": 86,
   "metadata": {},
   "outputs": [
    {
     "output_type": "stream",
     "name": "stdout",
     "text": [
      "[1362, 982, 1029, 1313, 1312, 1076, 1403, 1029, 1402, 934, 1500, 1262, 1446, 1498, 1493, 1446, 981, 1352, 1493, 1352, 1489, 1029, 1072, 1486, 1074, 1486, 1485, 983, 1257, 885, 1115, 73, 1434, 25, 1116, 930, 1069, 1114, 119, 72, 1022, 25, 117, 1510, 1156, 1508, 1512, 1196, 975, 70, 1200, 1419, 115, 70, 24, 1333, 1424, 1150, 976, 113, 1018, 925, 1230, 351, 1281, 303, 24, 157, 1491, 870, 1231, 300, 1484, 1356, 343, 1484, 1407, 917, 157, 1051, 1360, 345, 344, 1401, 919, 392, 1355, 1398, 392, 341, 343, 388, 388, 341, 299, 903, 297, 860, 296, 296]\n"
     ]
    }
   ],
   "source": [
    "from Scripts import pixelFinder as pf \n",
    "\n",
    "print(pf.bestPixels(X, y, 100))"
   ]
  },
  {
   "cell_type": "code",
   "execution_count": null,
   "metadata": {},
   "outputs": [],
   "source": []
  }
 ],
 "metadata": {
  "kernelspec": {
   "display_name": "Python 3",
   "language": "python",
   "name": "python3"
  },
  "language_info": {
   "codemirror_mode": {
    "name": "ipython",
    "version": 3
   },
   "file_extension": ".py",
   "mimetype": "text/x-python",
   "name": "python",
   "nbconvert_exporter": "python",
   "pygments_lexer": "ipython3",
   "version": "3.8.3-final"
  }
 },
 "nbformat": 4,
 "nbformat_minor": 4
}