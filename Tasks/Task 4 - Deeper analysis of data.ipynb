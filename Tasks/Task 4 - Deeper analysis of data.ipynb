{
 "cells": [
  {
   "cell_type": "markdown",
   "metadata": {},
   "source": [
    "# Deeper analysis of the data\n",
    "The data is split into 10 classes, search for important attributes for each class.\n",
    "or each **`train_smpl_<label>`** file, record the first 10 pixels, in order of the absolute\n",
    "correlation value, for each street sign."
   ]
  },
  {
   "cell_type": "code",
   "execution_count": 4,
   "metadata": {},
   "outputs": [
    {
     "output_type": "stream",
     "name": "stdout",
     "text": [
      "The autoreload extension is already loaded. To reload it, use:\n  %reload_ext autoreload\n"
     ]
    }
   ],
   "source": [
    "import numpy as numpy\n",
    "import matplotlib.pyplot as plt\n",
    "from Scripts import helperfn\n",
    "%load_ext autoreload\n",
    "%autoreload 2"
   ]
  },
  {
   "cell_type": "code",
   "execution_count": 8,
   "metadata": {},
   "outputs": [],
   "source": [
    "X, y = helperfn.get_data(result_id=0)"
   ]
  },
  {
   "cell_type": "code",
   "execution_count": 12,
   "metadata": {},
   "outputs": [
    {
     "output_type": "execute_result",
     "data": {
      "text/plain": [
       "-0.010632142008883204"
      ]
     },
     "metadata": {},
     "execution_count": 12
    }
   ],
   "source": [
    "X['1000'].corr(y['y'])"
   ]
  },
  {
   "cell_type": "code",
   "execution_count": 26,
   "metadata": {},
   "outputs": [
    {
     "output_type": "execute_result",
     "data": {
      "text/plain": [
       "        0  y\n",
       "0      78  0\n",
       "1      73  0\n",
       "2      72  0\n",
       "3      67  0\n",
       "4      74  0\n",
       "...   ... ..\n",
       "9685  247  1\n",
       "9686  151  1\n",
       "9687  255  1\n",
       "9688  255  1\n",
       "9689  252  1\n",
       "\n",
       "[9690 rows x 2 columns]"
      ],
      "text/html": "<div>\n<style scoped>\n    .dataframe tbody tr th:only-of-type {\n        vertical-align: middle;\n    }\n\n    .dataframe tbody tr th {\n        vertical-align: top;\n    }\n\n    .dataframe thead th {\n        text-align: right;\n    }\n</style>\n<table border=\"1\" class=\"dataframe\">\n  <thead>\n    <tr style=\"text-align: right;\">\n      <th></th>\n      <th>0</th>\n      <th>y</th>\n    </tr>\n  </thead>\n  <tbody>\n    <tr>\n      <th>0</th>\n      <td>78</td>\n      <td>0</td>\n    </tr>\n    <tr>\n      <th>1</th>\n      <td>73</td>\n      <td>0</td>\n    </tr>\n    <tr>\n      <th>2</th>\n      <td>72</td>\n      <td>0</td>\n    </tr>\n    <tr>\n      <th>3</th>\n      <td>67</td>\n      <td>0</td>\n    </tr>\n    <tr>\n      <th>4</th>\n      <td>74</td>\n      <td>0</td>\n    </tr>\n    <tr>\n      <th>...</th>\n      <td>...</td>\n      <td>...</td>\n    </tr>\n    <tr>\n      <th>9685</th>\n      <td>247</td>\n      <td>1</td>\n    </tr>\n    <tr>\n      <th>9686</th>\n      <td>151</td>\n      <td>1</td>\n    </tr>\n    <tr>\n      <th>9687</th>\n      <td>255</td>\n      <td>1</td>\n    </tr>\n    <tr>\n      <th>9688</th>\n      <td>255</td>\n      <td>1</td>\n    </tr>\n    <tr>\n      <th>9689</th>\n      <td>252</td>\n      <td>1</td>\n    </tr>\n  </tbody>\n</table>\n<p>9690 rows × 2 columns</p>\n</div>"
     },
     "metadata": {},
     "execution_count": 26
    }
   ],
   "source": [
    "x_data = X['0'].astype(int).to_frame()\n",
    "helperfn.append_result_col(x_data, y)"
   ]
  },
  {
   "cell_type": "code",
   "execution_count": 24,
   "metadata": {},
   "outputs": [
    {
     "output_type": "execute_result",
     "data": {
      "text/plain": [
       "'0'"
      ]
     },
     "metadata": {},
     "execution_count": 24
    }
   ],
   "source": [
    "\n",
    "for i in range(X.shape[1]):\n",
    "    "
   ]
  },
  {
   "cell_type": "code",
   "execution_count": 25,
   "metadata": {},
   "outputs": [
    {
     "output_type": "execute_result",
     "data": {
      "text/plain": [
       "'0'"
      ]
     },
     "metadata": {},
     "execution_count": 25
    }
   ],
   "source": [
    "'0'"
   ]
  },
  {
   "cell_type": "code",
   "execution_count": null,
   "metadata": {},
   "outputs": [],
   "source": []
  }
 ],
 "metadata": {
  "kernelspec": {
   "display_name": "Python 3",
   "language": "python",
   "name": "python3"
  },
  "language_info": {
   "codemirror_mode": {
    "name": "ipython",
    "version": 3
   },
   "file_extension": ".py",
   "mimetype": "text/x-python",
   "name": "python",
   "nbconvert_exporter": "python",
   "pygments_lexer": "ipython3",
   "version": "3.8.3-final"
  }
 },
 "nbformat": 4,
 "nbformat_minor": 4
}